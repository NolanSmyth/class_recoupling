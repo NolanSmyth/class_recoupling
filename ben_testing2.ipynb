{
 "cells": [
  {
   "cell_type": "markdown",
   "id": "83c50701",
   "metadata": {},
   "source": [
    "## Imports"
   ]
  },
  {
   "cell_type": "code",
   "execution_count": 2,
   "id": "62c9b18a",
   "metadata": {},
   "outputs": [],
   "source": [
    "import matplotlib.pyplot as plt\n",
    "import numpy as np\n",
    "from scipy.interpolate import UnivariateSpline\n",
    "import h5py\n",
    "from scipy.integrate import quadrature\n",
    "import pickle\n",
    "\n",
    "import warnings\n",
    "\n",
    "warnings.filterwarnings('ignore')"
   ]
  },
  {
   "cell_type": "code",
   "execution_count": 3,
   "id": "dd4ceafb",
   "metadata": {},
   "outputs": [],
   "source": [
    "# h5pydir = '/Users/nolansmyth/Dropbox/kinetic_recoupling/h5py_dat/'\n",
    "h5pydir = 'h5py_dat/'\n",
    "\n",
    "# h5pydir = '<YOUR PATH HERE>Dropbox/kinetic_recoupling/h5py_dat/'"
   ]
  },
  {
   "cell_type": "code",
   "execution_count": 4,
   "id": "e97907ed",
   "metadata": {},
   "outputs": [],
   "source": [
    "plt.style.use(\"/Users/nolansmyth/Dropbox/kinetic_recoupling/figures/style.mplstyle\")\n",
    "# plt.style.use(\"<YOUR PATH HERE>Dropbox/kinetic_recoupling/figures/style.mplstyle\")"
   ]
  },
  {
   "cell_type": "markdown",
   "id": "351fcfb6",
   "metadata": {},
   "source": [
    "## Parameters and Constants"
   ]
  },
  {
   "cell_type": "code",
   "execution_count": 26,
   "id": "08222e21",
   "metadata": {},
   "outputs": [],
   "source": [
    "spline_pars = {'k': 3, 's': 0.0}\n",
    "\n",
    "z_pk = 0.0; #redshift at which Pk is determined\n",
    "pk_max = 1.e2; #maximum k for Pk\n",
    "kk = np.logspace(-4,np.log10(pk_max),500)\n",
    "f_idm_dr = 1.0\n",
    "omega0_cdm = 0.12038;\n",
    "xi = 0.3\n",
    "# BM_KS = ['10']\n",
    "# BM_KS = [str(round(n,1)) for n in np.geomspace(1, 10, 5)]\n",
    "BM_KS = [str(round(n,1)) for n in np.geomspace(1, 10, 5)]\n",
    "\n",
    "\n",
    "# A_recs = [1e8, 1e10, 1e12, 1e14, 1e16, 1e18]\n",
    "# A_recs = [1e11, 1e12, 1e14]\n",
    "A_recs = [1e14]\n",
    "\n",
    "# A_recs = [1e11]\n",
    "\n",
    "\n",
    "T_rec = 6.0e5\n",
    "# k = 10 #use one k mode for now\n"
   ]
  },
  {
   "cell_type": "code",
   "execution_count": 6,
   "id": "6e867922",
   "metadata": {},
   "outputs": [
    {
     "data": {
      "text/plain": [
       "['1.0', '1.8', '3.2', '5.6', '10.0']"
      ]
     },
     "execution_count": 6,
     "metadata": {},
     "output_type": "execute_result"
    }
   ],
   "source": [
    "BM_KS"
   ]
  },
  {
   "cell_type": "markdown",
   "id": "3af63af3",
   "metadata": {},
   "source": [
    "## Functions"
   ]
  },
  {
   "cell_type": "code",
   "execution_count": 7,
   "id": "303e1493",
   "metadata": {},
   "outputs": [],
   "source": [
    "def scientific_format(x):\n",
    "    s = '%.1e' % x\n",
    "    mantissa, exponent = s.split('e')\n",
    "    return r'${} \\times 10^{{{}}}$'.format(mantissa, int(exponent))    "
   ]
  },
  {
   "cell_type": "markdown",
   "id": "65fb0624",
   "metadata": {},
   "source": [
    "## Read in h5py files"
   ]
  },
  {
   "cell_type": "code",
   "execution_count": 12,
   "id": "5c2a9d00",
   "metadata": {},
   "outputs": [],
   "source": [
    "k = BM_KS[0]"
   ]
  },
  {
   "cell_type": "code",
   "execution_count": 13,
   "id": "8e4d471e",
   "metadata": {},
   "outputs": [
    {
     "data": {
      "text/plain": [
       "'1.0'"
      ]
     },
     "execution_count": 13,
     "metadata": {},
     "output_type": "execute_result"
    }
   ],
   "source": [
    "k"
   ]
  },
  {
   "cell_type": "code",
   "execution_count": 14,
   "id": "63b1c0e3",
   "metadata": {},
   "outputs": [],
   "source": [
    "#Get data for case with no recoupling\n",
    "data_file=h5pydir+'class_testing_no_rec.hdf5'\n",
    "with h5py.File(data_file, 'r') as f:\n",
    "    tau_data = np.array(f['scalar']['k='+str(k)]['tau [Mpc]'])\n",
    "    delta_chi_data = np.array(f['scalar']['k='+str(k)]['delta_idm_dr'])\n",
    "    phi_data = np.array(f['scalar']['k='+str(k)]['phi'])\n",
    "    theta_dr_data = np.array(f['scalar']['k='+str(k)]['theta_idr'])\n",
    "    theta_data = np.array(f['scalar']['k='+str(k)]['theta_idm_dr'])\n",
    "    \n",
    "    delta_chi_no_rec = UnivariateSpline(tau_data, delta_chi_data, **spline_pars)\n",
    "    delta_chi_dot_no_rec = delta_chi_no_rec.derivative()\n",
    "    phi_no_rec = UnivariateSpline(tau_data, phi_data, **spline_pars)\n",
    "    phi_dot_no_rec = phi_no_rec.derivative()\n",
    "    theta_dr_no_rec = UnivariateSpline(tau_data, theta_dr_data, **spline_pars)\n",
    "\n",
    "    theta_chi_no_rec = UnivariateSpline(tau_data, theta_data, **spline_pars)\n",
    "    theta_chi_dot_no_rec = theta_chi_no_rec.derivative()\n",
    "\n",
    "    Pks_no_rec = np.array(f['power_spectrum']['Pk'])\n",
    "    kks_no_rec = np.array(f['power_spectrum']['kk'])\n",
    "\n",
    "    kappa_dot_data_no_rec = np.flip(np.array(f['thermodynamics']['dmu_idm_dr']))\n",
    "    z_data_no_rec = np.flip(np.array(f['thermodynamics']['z']))\n",
    "\n",
    "    rho_idr_no_rec = np.array(f['background']['(.)rho_idr'])\n",
    "    rho_idm_no_rec = np.array(f['background']['(.)rho_idm_dr'])\n",
    "    bkg_zs_no_rec = np.array(f['background']['z'])"
   ]
  },
  {
   "cell_type": "code",
   "execution_count": 15,
   "id": "336c7b9d",
   "metadata": {},
   "outputs": [],
   "source": [
    "data_file=h5pydir+'class_testing_no_rec.hdf5'\n",
    "with h5py.File(data_file, 'r') as f:\n",
    "    clTT = np.array(f['cmb']['tt'])\n",
    "    ll = np.array(f['cmb']['ell'])\n",
    "    clEE = np.array(f['cmb']['ee'])\n",
    "    clPP = np.array(f['cmb']['pp'])"
   ]
  },
  {
   "cell_type": "code",
   "execution_count": 72,
   "id": "4c8277b2",
   "metadata": {},
   "outputs": [],
   "source": [
    "# H_interp = pickle.load(open('interps/H_interp.p','rb')) #H(z)\n",
    "\n",
    "# H_interp = UnivariateSpline(cos.get_background()['conf. time [Mpc]'], cos.get_background()['H [1/Mpc]'], **spline_pars) #H(Tau)"
   ]
  },
  {
   "cell_type": "code",
   "execution_count": 16,
   "id": "f2c7452f",
   "metadata": {},
   "outputs": [],
   "source": [
    "#Get data for cases with recoupling\n",
    "\n",
    "delta_chi_dot_arr = []\n",
    "phi_dot_arr = []\n",
    "Pk_arr = []\n",
    "kappa_dot_taus_arr = []\n",
    "kappa_dot_zs_arr = []\n",
    "z_arr = []\n",
    "tau_arr = []\n",
    "thermo_tau_arr = []\n",
    "theta_dr_arr = []\n",
    "rho_idr_arr = []\n",
    "rho_idm_arr = []\n",
    "theta_chi_dot_arr = []\n",
    "theta_chi_arr = []\n",
    "for A_rec in A_recs:\n",
    "    data_file=h5pydir+'class_testing_' +'%.2e'%A_rec+'.hdf5'\n",
    "    with h5py.File(data_file, 'r') as f:\n",
    "        tau_data = np.array(f['scalar']['k='+str(k)]['tau [Mpc]'])\n",
    "        delta_chi_data = np.array(f['scalar']['k='+str(k)]['delta_idm_dr'])\n",
    "        phi_data = np.array(f['scalar']['k='+str(k)]['phi'])\n",
    "        kappa_dot_data = np.flip(np.array(f['thermodynamics']['dmu_idm_dr']))\n",
    "        z_data = np.flip(np.array(f['thermodynamics']['z']))\n",
    "        thermo_tau_data = np.flip(np.array(f['thermodynamics']['conf. time [Mpc]']))\n",
    "        cx2_data = np.flip(np.array(f['thermodynamics']['c_idm_dr^2']))\n",
    "\n",
    "        theta_data = np.array(f['scalar']['k='+str(k)]['theta_idm_dr'])\n",
    "        theta_dr_data = np.array(f['scalar']['k='+str(k)]['theta_idr'])\n",
    "\n",
    "        psi_data = np.array(f['scalar']['k='+str(k)]['psi'])\n",
    "\n",
    "        rho_idr_data = np.array(f['background']['(.)rho_idr'])\n",
    "        rho_idm_data = np.array(f['background']['(.)rho_idm_dr'])\n",
    "        bkg_tau_data = np.array(f['background']['conf. time [Mpc]'])\n",
    "\n",
    "        rho_idr = UnivariateSpline(bkg_tau_data, rho_idr_data, **spline_pars)\n",
    "        rho_idm = UnivariateSpline(bkg_tau_data, rho_idm_data, **spline_pars)\n",
    "\n",
    "        delta_chi = UnivariateSpline(tau_data, delta_chi_data, **spline_pars)\n",
    "        delta_chi_dot = delta_chi.derivative()\n",
    "        delta_chi_ddot = delta_chi_dot.derivative()\n",
    "\n",
    "        phi = UnivariateSpline(tau_data, phi_data, **spline_pars)\n",
    "        phi_dot = phi.derivative()\n",
    "        phi_ddot = phi_dot.derivative()\n",
    "\n",
    "        theta_chi = UnivariateSpline(tau_data, theta_data, **spline_pars)\n",
    "        theta_chi_dot = theta_chi.derivative()\n",
    "        theta_dr = UnivariateSpline(tau_data, theta_dr_data, **spline_pars)\n",
    "\n",
    "        psi = UnivariateSpline(tau_data, psi_data, **spline_pars)\n",
    "        cx2_chi = UnivariateSpline(thermo_tau_data, cx2_data, **spline_pars)\n",
    "\n",
    "        kappa_dot_taus = UnivariateSpline(thermo_tau_data, kappa_dot_data, **spline_pars)\n",
    "        kappa_dot_zs = UnivariateSpline(np.flip(z_data), np.flip(kappa_dot_data), **spline_pars)\n",
    "        thermo_taus = UnivariateSpline(np.flip(z_data), np.flip(thermo_tau_data), **spline_pars)\n",
    "\n",
    "        a_data = 1/(1+z_data)\n",
    "        a = UnivariateSpline(thermo_tau_data, a_data, **spline_pars)\n",
    "        aprime = a.derivative()\n",
    "\n",
    "        Pks = np.array(f['power_spectrum']['Pk'])\n",
    "        kks = np.array(f['power_spectrum']['kk'])\n",
    "\n",
    "        delta_chi_dot_arr.append(delta_chi_dot)\n",
    "        Pk_arr.append(Pks)\n",
    "        kappa_dot_taus_arr.append(kappa_dot_taus)\n",
    "        kappa_dot_zs_arr.append(kappa_dot_zs)\n",
    "        z_arr.append(z_data)\n",
    "        tau_arr.append(tau_data)\n",
    "        phi_dot_arr.append(phi_dot)\n",
    "        thermo_tau_arr.append(thermo_taus)\n",
    "        theta_dr_arr.append(theta_dr)\n",
    "        rho_idr_arr.append(rho_idr)\n",
    "        rho_idm_arr.append(rho_idm)\n",
    "        theta_chi_arr.append(theta_chi)\n",
    "        theta_chi_dot_arr.append(theta_chi_dot)"
   ]
  },
  {
   "cell_type": "code",
   "execution_count": 17,
   "id": "cdc84973",
   "metadata": {},
   "outputs": [],
   "source": [
    "tau_tests = np.geomspace(tau_data[0],tau_data[-1], int(1e4))"
   ]
  },
  {
   "cell_type": "code",
   "execution_count": 18,
   "id": "e60684b8",
   "metadata": {},
   "outputs": [],
   "source": [
    "Rdark_arr = [4/3*rho_idr_arr[i](7e-2)/rho_idm_arr[i](7e-2) for i in range(len(rho_idr_arr))]"
   ]
  },
  {
   "cell_type": "markdown",
   "id": "f2fcec47",
   "metadata": {},
   "source": [
    "## Recoupling rate calculation"
   ]
  },
  {
   "cell_type": "code",
   "execution_count": 19,
   "id": "3cc18650",
   "metadata": {},
   "outputs": [],
   "source": [
    "def my_dmu_idm_dr(z, A_rec, a_idm_dr = 1, Omega0_idm_dr = 0.12038, T_rec = 6.0e5, xi_idr = 0.3, sigma_fac = 0.001):\n",
    "\n",
    "    sigma = sigma_fac*T_rec\n",
    "    base_rate = a_idm_dr * ((1+z)/(1e7))**4 * Omega0_idm_dr \n",
    "    T_idr = (xi_idr * 2.73) * (1+z)\n",
    "    delta = T_idr - T_rec\n",
    "    delta = delta/sigma\n",
    "    gauss = np.exp(-pow(delta,2)/2)/np.sqrt(2*np.pi)\n",
    "\n",
    "    return base_rate * (1 + A_rec / sigma * gauss)"
   ]
  },
  {
   "cell_type": "code",
   "execution_count": 25,
   "id": "fefc99f2",
   "metadata": {},
   "outputs": [
    {
     "data": {
      "image/png": "[encoded data removed]",
      "text/plain": [
       "<Figure size 576x432 with 1 Axes>"
      ]
     },
     "metadata": {
      "needs_background": "light"
     },
     "output_type": "display_data"
    }
   ],
   "source": [
    "z_data = np.geomspace(1e-3,1e8,int(1e5))\n",
    "\n",
    "# a_idm_dr = 3e5\n",
    "\n",
    "plt.plot(z_data, my_dmu_idm_dr(z_data, A_recs[-1], T_rec=6e4, sigma_fac=0.01), '.', label='A_rec = {}'.format(scientific_format(A_recs[-1])))\n",
    "# plt.plot(z_data, my_dmu_idm_dr(z_data, 0, a_idm_dr = a_idm_dr, T_rec=6e5, sigma_fac=0.01), '.', label='a_idm_dr = {}'.format(scientific_format(a_idm_dr)))\n",
    "\n",
    "\n",
    "for i in range(len(A_recs)):\n",
    "    plt.plot(z_data, kappa_dot_zs_arr[i](z_data), '--',label='CLASS output')\n",
    "\n",
    "plt.plot([1e-3,1e10], [1,1], 'k--')\n",
    "plt.plot([1e-3,1e10], [1e-3,1e-3], 'k:')\n",
    "plt.plot([1e-3,1e10], [1e3,1e3], 'k:')\n",
    "\n",
    "plt.xlim(6e3,9e7)\n",
    "plt.ylim(1e-8,1e9)\n",
    "plt.xscale('log')\n",
    "plt.yscale('log')\n",
    "plt.xlabel('z', fontsize=16)\n",
    "plt.ylabel('$\\Gamma_{\\mathrm{DR-DM}}$', fontsize=16)\n",
    "plt.title('Comoving Scattering Rate')\n",
    "plt.legend()\n",
    "plt.show()"
   ]
  },
  {
   "cell_type": "markdown",
   "id": "e82d8ed0",
   "metadata": {},
   "source": [
    "## Matter Power Spectrum"
   ]
  },
  {
   "cell_type": "code",
   "execution_count": 31,
   "id": "1d26a945",
   "metadata": {},
   "outputs": [
    {
     "data": {
      "image/png": "[encoded data removed]",
      "text/plain": [
       "<Figure size 576x432 with 1 Axes>"
      ]
     },
     "metadata": {
      "needs_background": "light"
     },
     "output_type": "display_data"
    }
   ],
   "source": [
    "for i, A_rec in reversed(list(enumerate(A_recs))):\n",
    "    plt.plot(z_arr[i], kappa_dot_zs_arr[i](z_arr[i]), label='A_rec = ' + scientific_format(A_rec))\n",
    "\n",
    "plt.plot(z_data_no_rec, kappa_dot_data_no_rec, label='no rec ')\n",
    "\n",
    "plt.plot([1e-3,1e10], [1,1], 'k--')\n",
    "plt.plot([1e-3,1e10], [1e-3,1e-3], 'k:')\n",
    "plt.plot([1e-3,1e10], [1e3,1e3], 'k:')\n",
    "\n",
    "plt.xlim(1e5,8e6)\n",
    "plt.ylim(1e-6,1e9)\n",
    "plt.xscale('log')\n",
    "plt.yscale('log')\n",
    "plt.xlabel('z', fontsize=16)\n",
    "plt.ylabel('$\\Gamma_{\\mathrm{DR-DM}}$', fontsize=16)\n",
    "plt.title('Comoving Scattering Rate')\n",
    "plt.legend()\n",
    "plt.show()"
   ]
  },
  {
   "cell_type": "code",
   "execution_count": 40,
   "id": "52b10114",
   "metadata": {},
   "outputs": [],
   "source": [
    "Pk_fixed = [Pk_arr[i][390]/Pks_no_rec[390] for i in range(len(A_recs))]"
   ]
  },
  {
   "cell_type": "code",
   "execution_count": 44,
   "id": "8f7e3518",
   "metadata": {},
   "outputs": [
    {
     "data": {
      "text/plain": [
       "<matplotlib.legend.Legend at 0x7fa3f1595b50>"
      ]
     },
     "execution_count": 44,
     "metadata": {},
     "output_type": "execute_result"
    },
    {
     "data": {
      "image/png": "[encoded data removed]",
      "text/plain": [
       "<Figure size 576x432 with 1 Axes>"
      ]
     },
     "metadata": {
      "needs_background": "light"
     },
     "output_type": "display_data"
    }
   ],
   "source": [
    "plt.loglog(A_recs,Pk_fixed, '.-', label='Pk Suppression')\n",
    "\n",
    "plt.xlabel('A_rec')\n",
    "plt.ylabel('$P(k)/P(k)_0$')\n",
    "plt.title('k = {:.2f}'.format(kk[390]))\n",
    "\n",
    "plt.legend(loc='lower left')\n"
   ]
  },
  {
   "cell_type": "code",
   "execution_count": 78,
   "id": "9d559c8f",
   "metadata": {},
   "outputs": [
    {
     "data": {
      "image/png": "[encoded data removed]",
      "text/plain": [
       "<Figure size 576x432 with 1 Axes>"
      ]
     },
     "metadata": {
      "needs_background": "light"
     },
     "output_type": "display_data"
    }
   ],
   "source": [
    "#k = 10\n",
    "lines = [\"-\",\"--\",\"-.\",\":\"]\n",
    "for i, A_rec in reversed(list(enumerate(A_recs))):\n",
    "    plt.plot(tau_data, abs(delta_chi_data),  ls = lines[i%len(lines)], label='A_rec = ' + scientific_format(A_rec))\n",
    "\n",
    "plt.plot(tau_data,abs(delta_chi_no_rec(tau_data)), '--', label='No Rec')\n",
    "plt.yscale('log')\n",
    "plt.xscale('log')\n",
    "plt.xlabel('tau')\n",
    "# plt.ylabel('$delta chi$')\n",
    "# plt.xlim(1,1e2)\n",
    "plt.legend()\n",
    "plt.show()"
   ]
  },
  {
   "cell_type": "code",
   "execution_count": 83,
   "id": "3e2b5253",
   "metadata": {},
   "outputs": [
    {
     "data": {
      "image/png": "[encoded data removed]",
      "text/plain": [
       "<Figure size 576x432 with 1 Axes>"
      ]
     },
     "metadata": {
      "needs_background": "light"
     },
     "output_type": "display_data"
    }
   ],
   "source": [
    "#k = 1\n",
    "lines = [\"-\",\"--\",\"-.\",\":\"]\n",
    "for i, A_rec in reversed(list(enumerate(A_recs))):\n",
    "    plt.plot(tau_data, abs(delta_chi_data),  ls = lines[i%len(lines)], label='A_rec = ' + scientific_format(A_rec))\n",
    "\n",
    "plt.plot(tau_data,abs(delta_chi_no_rec(tau_data)), '--', label='No Rec')\n",
    "plt.yscale('log')\n",
    "plt.xscale('log')\n",
    "plt.xlabel('tau')\n",
    "# plt.ylabel('$delta chi$')\n",
    "# plt.xlim(1,1e2)\n",
    "plt.legend()\n",
    "plt.show()"
   ]
  },
  {
   "cell_type": "markdown",
   "id": "00cdd4eb",
   "metadata": {},
   "source": [
    "## Generate Data (shouldn't need to touch unless re-running CLASS)"
   ]
  },
  {
   "cell_type": "code",
   "execution_count": 27,
   "id": "230e4406",
   "metadata": {},
   "outputs": [],
   "source": [
    "from classy import Class"
   ]
  },
  {
   "cell_type": "code",
   "execution_count": 30,
   "id": "d4addcaf",
   "metadata": {},
   "outputs": [],
   "source": [
    "def getPk(classObj):\n",
    "    kk = np.logspace(-4,np.log10(pk_max),500) # k in h/Mpc\n",
    "    Pk = [] # P(k) in (Mpc/h)**3\n",
    "    h = classObj.h() # get reduced Hubble for conversions to 1/Mpc\n",
    "    for k in kk:\n",
    "        Pk.append(classObj.pk(k*h,z_pk)*h**3) # function .pk(k,z)\n",
    "    return Pk;\n",
    "\n",
    "def getPkRatio(classObj1, classObj2):\n",
    "    #Returns the ratio of the power spectrum of 1 to 2\n",
    "    return[getPk(classObj1)[i]/getPk(classObj2)[i] for i in range(len(kk))]\n",
    "    \n",
    "\n",
    "def getdmu_idm_dr(classObj):\n",
    "    return classObj.get_thermodynamics()['dmu_idm_dr']\n",
    "    \n",
    "def getzs(classObj):\n",
    "    return classObj.get_thermodynamics()['z']\n",
    "\n",
    "def getH(classObj):\n",
    "    zs = np.flip(classObj.get_background()['z'])\n",
    "    Hs = np.flip(classObj.get_background()['H [1/Mpc]'])\n",
    "    return UnivariateSpline(zs, Hs, k=1.0, s=0.0)\n",
    "\n",
    "\n",
    "def getDat(classObj):\n",
    "    dmu_idm_dr = getdmu_idm_dr(classObj);\n",
    "    zs = getzs(classObj)\n",
    "    Hspline = getH(classObj)\n",
    "    \n",
    "    return dmu_idm_dr, zs, Hspline\n",
    "\n",
    "\n",
    "def save_class_obj(class_obj,A_rec):\n",
    "    model = class_obj\n",
    "    data_file=h5pydir+'class_testing_late' +'%.2e'%A_rec+'.hdf5'\n",
    "    with h5py.File(data_file, 'w') as f:    \n",
    "        # Scalar group\n",
    "        data = model.get_perturbations()['scalar']\n",
    "        sub_group = f.create_group('scalar')\n",
    "        for i, k in enumerate(BM_KS):\n",
    "            sub_sub_group = sub_group.create_group(f'k={k}')\n",
    "            d = data[i]\n",
    "            for key, val in d.items():\n",
    "                sub_sub_group.create_dataset(key, data=val)\n",
    "        \n",
    "        # Background group\n",
    "        data = model.get_background()\n",
    "        sub_group = f.create_group('background')\n",
    "        for key, val in data.items():\n",
    "            sub_group.create_dataset(key, data=val)\n",
    "        \n",
    "        # Thermo group\n",
    "        data = model.get_thermodynamics()\n",
    "        sub_group = f.create_group('thermodynamics')\n",
    "        for key, val in data.items():\n",
    "            sub_group.create_dataset(key, data=val)\n",
    "\n",
    "        # Power Spectrum group\n",
    "        data = getPk(model)\n",
    "        sub_group = f.create_group('power_spectrum')\n",
    "        sub_group.create_dataset('kk', data=kk)\n",
    "        sub_group.create_dataset('Pk', data=data) \n",
    "\n",
    "         # CMB group\n",
    "        data = model.lensed_cl(2500)\n",
    "        sub_group = f.create_group('cmb')\n",
    "        for key, val in data.items():\n",
    "            sub_group.create_dataset(key, data=val)"
   ]
  },
  {
   "cell_type": "code",
   "execution_count": 31,
   "id": "40cca9df",
   "metadata": {},
   "outputs": [],
   "source": [
    "commonset = {\n",
    "    'omega_b': 0.022032,\n",
    "    'omega_cdm': omega0_cdm,\n",
    "    'h': 0.67556,\n",
    "    'A_s': 2.215e-9,\n",
    "    'n_s': 0.9619,\n",
    "    'tau_reio': 0.0925,\n",
    "    'output': 'tCl,pCl,lCl,mPk',\n",
    "    'lensing': 'yes',\n",
    "    'P_k_max_1/Mpc': pk_max,\n",
    "    'z_pk': 0.0,\n",
    "    'k_output_values':\",\".join(BM_KS)\n",
    "}\n",
    "\n",
    "idrset = {\n",
    "    # Dark matter/radiation parameters\n",
    "    'f_idm_dr': f_idm_dr, #Amount of dm that is interacting\n",
    "    'xi_idr': 0.3, \n",
    "    'stat_f_idr': 0.875, #fermionic\n",
    "    'nindex_idm_dr': 4.0, \n",
    "    'm_idm': 1.0e3,\n",
    "    # Scattering rate parameters\n",
    "    'a_idm_dr': 1.0e0,\n",
    "    'rec_case': 4, #1 = power, 2 = Theta, 3 = delta function, 4 = no recoupling \n",
    "}\n",
    "\n",
    "single_late_set = {\n",
    "    # Dark matter/radiation parameters\n",
    "    'f_idm_dr': f_idm_dr, #Amount of dm that is interacting\n",
    "    'xi_idr': 0.3, \n",
    "    'stat_f_idr': 0.875, #fermionic\n",
    "    'nindex_idm_dr': 4.0, \n",
    "    'm_idm': 1.0e3,\n",
    "    # Scattering rate parameters\n",
    "    'a_idm_dr': 3e5,\n",
    "    'rec_case': 4, #1 = power, 2 = Theta, 3 = delta function, 4 = no recoupling \n",
    "}"
   ]
  },
  {
   "cell_type": "code",
   "execution_count": 36,
   "id": "5e46e751",
   "metadata": {},
   "outputs": [],
   "source": [
    "sigma_fac = 0.01\n",
    "A_recs = [1e15]\n",
    "\n",
    "for A_rec in A_recs:\n",
    "    cos = Class()\n",
    "    cos.set(commonset)\n",
    "    cos.set(idrset)\n",
    "    cos.set({\n",
    "        'rec_case': 3,\n",
    "        'A_rec':A_rec,\n",
    "        'T_rec':T_rec*0.1,\n",
    "        'sigma' : sigma_fac*T_rec*0.1 #Gaussian width\n",
    "        })\n",
    "    cos.compute() \n",
    "\n",
    "    save_class_obj(cos,A_rec)\n",
    "    \n",
    "    # clear content of cos (to reuse it for another model)\n",
    "    cos.struct_cleanup()\n",
    "    # reset parameters to default\n",
    "    cos.empty()"
   ]
  },
  {
   "cell_type": "code",
   "execution_count": 89,
   "id": "dd00b289",
   "metadata": {},
   "outputs": [],
   "source": [
    "LambdaCDM = Class()\n",
    "LambdaCDM.set(commonset)\n",
    "LambdaCDM.compute()\n",
    "LambdaCDMPk = getPk(LambdaCDM);"
   ]
  },
  {
   "cell_type": "code",
   "execution_count": 95,
   "id": "6a91176d",
   "metadata": {},
   "outputs": [],
   "source": [
    "lensed_cls = LambdaCDM.lensed_cl(2500)\n",
    "clTT = lensed_cls['tt']\n",
    "ll = lensed_cls['ell']\n",
    "clEE = lensed_cls['ee']\n",
    "clPP = lensed_cls['pp']"
   ]
  },
  {
   "cell_type": "code",
   "execution_count": 97,
   "id": "2f15882a",
   "metadata": {},
   "outputs": [
    {
     "data": {
      "text/plain": [
       "[<matplotlib.lines.Line2D at 0x7fc4aa06b130>]"
      ]
     },
     "execution_count": 97,
     "metadata": {},
     "output_type": "execute_result"
    },
    {
     "data": {
      "image/png": "[encoded data removed]",
      "text/plain": [
       "<Figure size 576x432 with 1 Axes>"
      ]
     },
     "metadata": {
      "needs_background": "light"
     },
     "output_type": "display_data"
    }
   ],
   "source": [
    "# plot C_l^TT\n",
    "plt.xscale('log');plt.yscale('linear');plt.xlim(2,2500)\n",
    "plt.xlabel(r'$\\ell$')\n",
    "plt.ylabel(r'$[\\ell(\\ell+1)/2\\pi]  C_\\ell^\\mathrm{TT}$')\n",
    "plt.plot(ll,clTT*ll*(ll+1)/2./np.pi,'k-')"
   ]
  },
  {
   "cell_type": "code",
   "execution_count": 99,
   "id": "58ebebae",
   "metadata": {},
   "outputs": [],
   "source": [
    "idrNoRec = Class()\n",
    "idrNoRec.set(commonset)\n",
    "idrNoRec.set(idrset)\n",
    "\n",
    "idrNoRec.compute()"
   ]
  },
  {
   "cell_type": "code",
   "execution_count": null,
   "id": "b3eae047",
   "metadata": {},
   "outputs": [],
   "source": [
    "idrNoRec_late = Class()\n",
    "idrNoRec_late.set(commonset)\n",
    "idrNoRec_late.set(single_late_set)\n",
    "\n",
    "idrNoRec_late.compute()"
   ]
  },
  {
   "cell_type": "code",
   "execution_count": 100,
   "id": "79eb72c7",
   "metadata": {},
   "outputs": [],
   "source": [
    "model = idrNoRec\n",
    "with h5py.File(h5pydir+'class_testing_no_rec.hdf5', 'w') as f:    \n",
    "    # Scalar group\n",
    "    data = model.get_perturbations()['scalar']\n",
    "    sub_group = f.create_group('scalar')\n",
    "    for i, k in enumerate(BM_KS):\n",
    "        sub_sub_group = sub_group.create_group(f'k={k}')\n",
    "        d = data[i]\n",
    "        for key, val in d.items():\n",
    "            sub_sub_group.create_dataset(key, data=val)\n",
    "    \n",
    "    # Background group\n",
    "    data = model.get_background()\n",
    "    sub_group = f.create_group('background')\n",
    "    for key, val in data.items():\n",
    "        sub_group.create_dataset(key, data=val)\n",
    "    \n",
    "    # Thermo group\n",
    "    data = model.get_thermodynamics()\n",
    "    sub_group = f.create_group('thermodynamics')\n",
    "    for key, val in data.items():\n",
    "        sub_group.create_dataset(key, data=val)\n",
    "\n",
    "    # Power Spectrum group\n",
    "    data = getPk(model)\n",
    "    sub_group = f.create_group('power_spectrum')\n",
    "    sub_group.create_dataset('kk', data=kk)\n",
    "    sub_group.create_dataset('Pk', data=data) \n",
    "\n",
    "    # CMB group\n",
    "    data = model.lensed_cl(2500)\n",
    "    sub_group = f.create_group('cmb')\n",
    "    for key, val in data.items():\n",
    "        sub_group.create_dataset(key, data=val)"
   ]
  },
  {
   "cell_type": "code",
   "execution_count": null,
   "id": "7acfb9a9",
   "metadata": {},
   "outputs": [],
   "source": [
    "model = idrNoRec_late\n",
    "with h5py.File(h5pydir+'class_testing_no_rec_late.hdf5', 'w') as f:    \n",
    "    # Scalar group\n",
    "    data = model.get_perturbations()['scalar']\n",
    "    sub_group = f.create_group('scalar')\n",
    "    for i, k in enumerate(BM_KS):\n",
    "        sub_sub_group = sub_group.create_group(f'k={k}')\n",
    "        d = data[i]\n",
    "        for key, val in d.items():\n",
    "            sub_sub_group.create_dataset(key, data=val)\n",
    "    \n",
    "    # Background group\n",
    "    data = model.get_background()\n",
    "    sub_group = f.create_group('background')\n",
    "    for key, val in data.items():\n",
    "        sub_group.create_dataset(key, data=val)\n",
    "    \n",
    "    # Thermo group\n",
    "    data = model.get_thermodynamics()\n",
    "    sub_group = f.create_group('thermodynamics')\n",
    "    for key, val in data.items():\n",
    "        sub_group.create_dataset(key, data=val)\n",
    "\n",
    "    # Power Spectrum group\n",
    "    data = getPk(model)\n",
    "    sub_group = f.create_group('power_spectrum')\n",
    "    sub_group.create_dataset('kk', data=kk)\n",
    "    sub_group.create_dataset('Pk', data=data) \n",
    "\n",
    "    # CMB group\n",
    "    data = model.lensed_cl(2500)\n",
    "    sub_group = f.create_group('cmb')\n",
    "    for key, val in data.items():\n",
    "        sub_group.create_dataset(key, data=val)"
   ]
  },
  {
   "cell_type": "code",
   "execution_count": 98,
   "id": "2491a14a",
   "metadata": {},
   "outputs": [],
   "source": [
    "model = LambdaCDM\n",
    "with h5py.File(h5pydir+'class_testing_LambdaCDM.hdf5', 'w') as f:    \n",
    "    # Scalar group\n",
    "    data = model.get_perturbations()['scalar']\n",
    "    sub_group = f.create_group('scalar')\n",
    "    for i, k in enumerate(BM_KS):\n",
    "        sub_sub_group = sub_group.create_group(f'k={k}')\n",
    "        d = data[i]\n",
    "        for key, val in d.items():\n",
    "            sub_sub_group.create_dataset(key, data=val)\n",
    "    \n",
    "    # Background group\n",
    "    data = model.get_background()\n",
    "    sub_group = f.create_group('background')\n",
    "    for key, val in data.items():\n",
    "        sub_group.create_dataset(key, data=val)\n",
    "    \n",
    "    # Thermo group\n",
    "    data = model.get_thermodynamics()\n",
    "    sub_group = f.create_group('thermodynamics')\n",
    "    for key, val in data.items():\n",
    "        sub_group.create_dataset(key, data=val)\n",
    "\n",
    "    # Power Spectrum group\n",
    "    data = getPk(model)\n",
    "    sub_group = f.create_group('power_spectrum')\n",
    "    sub_group.create_dataset('kk', data=kk)\n",
    "    sub_group.create_dataset('Pk', data=data) \n",
    "\n",
    "    # CMB group\n",
    "    data = model.lensed_cl(2500)\n",
    "    sub_group = f.create_group('cmb')\n",
    "    for key, val in data.items():\n",
    "        sub_group.create_dataset(key, data=val)\n",
    "    "
   ]
  },
  {
   "cell_type": "code",
   "execution_count": null,
   "id": "1b12f8b1",
   "metadata": {},
   "outputs": [],
   "source": []
  }
 ],
 "metadata": {
  "interpreter": {
   "hash": "1d93644de78784b52e1665efed99a57bcdf9c9cb0f07cf200ed55be113c20bd8"
  },
  "kernelspec": {
   "display_name": "kineticclass",
   "language": "python",
   "name": "python3"
  },
  "language_info": {
   "codemirror_mode": {
    "name": "ipython",
    "version": 3
   },
   "file_extension": ".py",
   "mimetype": "text/x-python",
   "name": "python",
   "nbconvert_exporter": "python",
   "pygments_lexer": "ipython3",
   "version": "3.9.7 (default, Sep 16 2021, 08:50:36) \n[Clang 10.0.0 ]"
  }
 },
 "nbformat": 4,
 "nbformat_minor": 5
}
