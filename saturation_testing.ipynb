{
 "cells": [
  {
   "cell_type": "markdown",
   "id": "83c50701",
   "metadata": {},
   "source": [
    "## Imports"
   ]
  },
  {
   "cell_type": "code",
   "execution_count": 1,
   "id": "62c9b18a",
   "metadata": {},
   "outputs": [],
   "source": [
    "import matplotlib.pyplot as plt\n",
    "import numpy as np\n",
    "from scipy.interpolate import UnivariateSpline\n",
    "import h5py\n",
    "from scipy.integrate import quadrature\n",
    "import pickle\n",
    "\n",
    "import warnings\n",
    "\n",
    "warnings.filterwarnings('ignore')"
   ]
  },
  {
   "cell_type": "code",
   "execution_count": 2,
   "id": "dd4ceafb",
   "metadata": {},
   "outputs": [],
   "source": [
    "h5pydir = '/Users/nolansmyth/Dropbox/kinetic_recoupling/h5py_dat/'\n",
    "# h5pydir = '<YOUR PATH HERE>Dropbox/kinetic_recoupling/h5py_dat/'"
   ]
  },
  {
   "cell_type": "code",
   "execution_count": 3,
   "id": "e97907ed",
   "metadata": {},
   "outputs": [],
   "source": [
    "plt.style.use(\"/Users/nolansmyth/Dropbox/kinetic_recoupling/figures/style.mplstyle\")\n",
    "# plt.style.use(\"<YOUR PATH HERE>Dropbox/kinetic_recoupling/figures/style.mplstyle\")"
   ]
  },
  {
   "cell_type": "markdown",
   "id": "351fcfb6",
   "metadata": {},
   "source": [
    "## Parameters and Constants"
   ]
  },
  {
   "cell_type": "code",
   "execution_count": 7,
   "id": "08222e21",
   "metadata": {},
   "outputs": [],
   "source": [
    "spline_pars = {'k': 3, 's': 0.0}\n",
    "\n",
    "z_pk = 0.0; #redshift at which Pk is determined\n",
    "pk_max = 1.e2; #maximum k for Pk\n",
    "kk = np.logspace(-4,np.log10(pk_max),500)\n",
    "f_idm_dr = 1.0\n",
    "omega0_cdm = 0.12038;\n",
    "xi = 0.3\n",
    "BM_KS = ['10']\n",
    "# A_recs = [1e5, 10**(5.5), 1e6]\n",
    "# A_recs = [1e6, 1e7, 1e8]\n",
    "A_recs = [1e8, 10**(8.5), 1e9]\n",
    "\n",
    "T_rec = 6.0e5\n",
    "k = 10 #use one k mode for now\n"
   ]
  },
  {
   "cell_type": "markdown",
   "id": "3af63af3",
   "metadata": {},
   "source": [
    "## Functions"
   ]
  },
  {
   "cell_type": "code",
   "execution_count": 37,
   "id": "303e1493",
   "metadata": {},
   "outputs": [],
   "source": [
    "def scientific_format(x):\n",
    "    s = '%.1e' % x\n",
    "    mantissa, exponent = s.split('e')\n",
    "    return r'${} \\times 10^{{{}}}$'.format(mantissa, int(exponent))    "
   ]
  },
  {
   "cell_type": "markdown",
   "id": "65fb0624",
   "metadata": {},
   "source": [
    "## Read in h5py files"
   ]
  },
  {
   "cell_type": "code",
   "execution_count": 6,
   "id": "63b1c0e3",
   "metadata": {},
   "outputs": [],
   "source": [
    "#Get data for case with no recoupling\n",
    "data_file=h5pydir+'class_model_data_no_rec.hdf5'\n",
    "with h5py.File(data_file, 'r') as f:\n",
    "    tau_data = np.array(f['scalar']['k='+str(k)]['tau [Mpc]'])\n",
    "    delta_chi_data = np.array(f['scalar']['k='+str(k)]['delta_idm_dr'])\n",
    "    phi_data = np.array(f['scalar']['k='+str(k)]['phi'])\n",
    "    theta_dr_data = np.array(f['scalar']['k='+str(k)]['theta_idr'])\n",
    "    theta_data = np.array(f['scalar']['k='+str(k)]['theta_idm_dr'])\n",
    "    \n",
    "    delta_chi_no_rec = UnivariateSpline(tau_data, delta_chi_data, **spline_pars)\n",
    "    delta_chi_dot_no_rec = delta_chi_no_rec.derivative()\n",
    "    phi_no_rec = UnivariateSpline(tau_data, phi_data, **spline_pars)\n",
    "    phi_dot_no_rec = phi_no_rec.derivative()\n",
    "    theta_dr_no_rec = UnivariateSpline(tau_data, theta_dr_data, **spline_pars)\n",
    "\n",
    "    theta_chi_no_rec = UnivariateSpline(tau_data, theta_data, **spline_pars)\n",
    "    theta_chi_dot_no_rec = theta_chi_no_rec.derivative()\n",
    "\n",
    "    Pks_no_rec = np.array(f['power_spectrum']['Pk'])\n",
    "    kks_no_rec = np.array(f['power_spectrum']['kk'])\n",
    "\n",
    "    kappa_dot_data_no_rec = np.flip(np.array(f['thermodynamics']['dmu_idm_dr']))\n",
    "    z_data_no_rec = np.flip(np.array(f['thermodynamics']['z']))\n",
    "\n",
    "    rho_idr_no_rec = np.array(f['background']['(.)rho_idr'])\n",
    "    rho_idm_no_rec = np.array(f['background']['(.)rho_idm_dr'])\n",
    "    bkg_zs_no_rec = np.array(f['background']['z'])"
   ]
  },
  {
   "cell_type": "code",
   "execution_count": 68,
   "id": "4c8277b2",
   "metadata": {},
   "outputs": [],
   "source": [
    "# H_interp = pickle.load(open('interps/H_interp.p','rb')) #H(z)\n",
    "\n",
    "# H_interp = UnivariateSpline(cos.get_background()['conf. time [Mpc]'], cos.get_background()['H [1/Mpc]'], **spline_pars) #H(Tau)"
   ]
  },
  {
   "cell_type": "code",
   "execution_count": 7,
   "id": "f2c7452f",
   "metadata": {},
   "outputs": [],
   "source": [
    "#Get data for cases with recoupling\n",
    "delta_chi_dot_arr = []\n",
    "phi_dot_arr = []\n",
    "Pk_arr = []\n",
    "kappa_dot_taus_arr = []\n",
    "kappa_dot_zs_arr = []\n",
    "z_arr = []\n",
    "tau_arr = []\n",
    "thermo_tau_arr = []\n",
    "theta_dr_arr = []\n",
    "rho_idr_arr = []\n",
    "rho_idm_arr = []\n",
    "theta_chi_dot_arr = []\n",
    "theta_chi_arr = []\n",
    "for A_rec in A_recs:\n",
    "    data_file=h5pydir+'class_model_data_' +'%.2e'%A_rec+'.hdf5'\n",
    "    with h5py.File(data_file, 'r') as f:\n",
    "        tau_data = np.array(f['scalar']['k='+str(k)]['tau [Mpc]'])\n",
    "        delta_chi_data = np.array(f['scalar']['k='+str(k)]['delta_idm_dr'])\n",
    "        phi_data = np.array(f['scalar']['k='+str(k)]['phi'])\n",
    "        kappa_dot_data = np.flip(np.array(f['thermodynamics']['dmu_idm_dr']))\n",
    "        z_data = np.flip(np.array(f['thermodynamics']['z']))\n",
    "        thermo_tau_data = np.flip(np.array(f['thermodynamics']['conf. time [Mpc]']))\n",
    "        cx2_data = np.flip(np.array(f['thermodynamics']['c_idm_dr^2']))\n",
    "\n",
    "        theta_data = np.array(f['scalar']['k='+str(k)]['theta_idm_dr'])\n",
    "        theta_dr_data = np.array(f['scalar']['k='+str(k)]['theta_idr'])\n",
    "\n",
    "        psi_data = np.array(f['scalar']['k='+str(k)]['psi'])\n",
    "\n",
    "        rho_idr_data = np.array(f['background']['(.)rho_idr'])\n",
    "        rho_idm_data = np.array(f['background']['(.)rho_idm_dr'])\n",
    "        bkg_tau_data = np.array(f['background']['conf. time [Mpc]'])\n",
    "\n",
    "        rho_idr = UnivariateSpline(bkg_tau_data, rho_idr_data, **spline_pars)\n",
    "        rho_idm = UnivariateSpline(bkg_tau_data, rho_idm_data, **spline_pars)\n",
    "\n",
    "        delta_chi = UnivariateSpline(tau_data, delta_chi_data, **spline_pars)\n",
    "        delta_chi_dot = delta_chi.derivative()\n",
    "        delta_chi_ddot = delta_chi_dot.derivative()\n",
    "\n",
    "        phi = UnivariateSpline(tau_data, phi_data, **spline_pars)\n",
    "        phi_dot = phi.derivative()\n",
    "        phi_ddot = phi_dot.derivative()\n",
    "\n",
    "        theta_chi = UnivariateSpline(tau_data, theta_data, **spline_pars)\n",
    "        theta_chi_dot = theta_chi.derivative()\n",
    "        theta_dr = UnivariateSpline(tau_data, theta_dr_data, **spline_pars)\n",
    "\n",
    "        psi = UnivariateSpline(tau_data, psi_data, **spline_pars)\n",
    "        cx2_chi = UnivariateSpline(thermo_tau_data, cx2_data, **spline_pars)\n",
    "\n",
    "        kappa_dot_taus = UnivariateSpline(thermo_tau_data, kappa_dot_data, **spline_pars)\n",
    "        kappa_dot_zs = UnivariateSpline(np.flip(z_data), np.flip(kappa_dot_data), **spline_pars)\n",
    "        thermo_taus = UnivariateSpline(np.flip(z_data), np.flip(thermo_tau_data), **spline_pars)\n",
    "\n",
    "        a_data = 1/(1+z_data)\n",
    "        a = UnivariateSpline(thermo_tau_data, a_data, **spline_pars)\n",
    "        aprime = a.derivative()\n",
    "\n",
    "        Pks = np.array(f['power_spectrum']['Pk'])\n",
    "        kks = np.array(f['power_spectrum']['kk'])\n",
    "\n",
    "        delta_chi_dot_arr.append(delta_chi_dot)\n",
    "        Pk_arr.append(Pks)\n",
    "        kappa_dot_taus_arr.append(kappa_dot_taus)\n",
    "        kappa_dot_zs_arr.append(kappa_dot_zs)\n",
    "        z_arr.append(z_data)\n",
    "        tau_arr.append(tau_data)\n",
    "        phi_dot_arr.append(phi_dot)\n",
    "        thermo_tau_arr.append(thermo_taus)\n",
    "        theta_dr_arr.append(theta_dr)\n",
    "        rho_idr_arr.append(rho_idr)\n",
    "        rho_idm_arr.append(rho_idm)\n",
    "        theta_chi_arr.append(theta_chi)\n",
    "        theta_chi_dot_arr.append(theta_chi_dot)"
   ]
  },
  {
   "cell_type": "code",
   "execution_count": 9,
   "id": "cdc84973",
   "metadata": {},
   "outputs": [],
   "source": [
    "tau_tests = np.geomspace(tau_data[0],tau_data[-1], int(1e4))"
   ]
  },
  {
   "cell_type": "code",
   "execution_count": 12,
   "id": "e60684b8",
   "metadata": {},
   "outputs": [],
   "source": [
    "Rdark_arr = [4/3*rho_idr_arr[i](7e-2)/rho_idm_arr[i](7e-2) for i in range(len(rho_idr_arr))]"
   ]
  },
  {
   "cell_type": "markdown",
   "id": "f2fcec47",
   "metadata": {},
   "source": [
    "## Recoupling rate calculation"
   ]
  },
  {
   "cell_type": "code",
   "execution_count": 30,
   "id": "3cc18650",
   "metadata": {},
   "outputs": [],
   "source": [
    "def my_dmu_idm_dr(z, A_rec, a_idm_dr = 1, Omega0_idm_dr = 0.12038, T_rec = 6.0e5, xi_idr = 0.3, sigma_fac = 0.001):\n",
    "\n",
    "    sigma = sigma_fac*T_rec\n",
    "    base_rate = a_idm_dr * ((1+z)/(1e7))**4 * Omega0_idm_dr \n",
    "    T_idr = (xi_idr * 2.73) * (1+z)\n",
    "    delta = T_idr - T_rec\n",
    "    delta = delta/sigma\n",
    "    gauss = np.exp(-pow(delta,2)/2)/np.sqrt(2*np.pi)\n",
    "\n",
    "    return base_rate * (1 + A_rec / sigma * gauss)"
   ]
  },
  {
   "cell_type": "code",
   "execution_count": 42,
   "id": "b3045465",
   "metadata": {},
   "outputs": [
    {
     "data": {
      "image/png": "[encoded data removed]",
      "text/plain": [
       "<Figure size 576x432 with 1 Axes>"
      ]
     },
     "metadata": {
      "needs_background": "light"
     },
     "output_type": "display_data"
    }
   ],
   "source": [
    "z_data = np.geomspace(1e-3,1e8,int(1e5))\n",
    "\n",
    "plt.plot(z_data, my_dmu_idm_dr(z_data, A_recs[-1], T_rec=6e6, sigma_fac=0.01), '.', label='A_rec = {}'.format(scientific_format(A_recs[-1])))\n",
    "plt.plot(z_data, my_dmu_idm_dr(z_data, A_recs[-1]*10, T_rec=6e6, sigma_fac=0.01), '.', label='A_rec = {}'.format(scientific_format(A_recs[-1]*10)))\n",
    "\n",
    "# plt.plot(z_data_no_rec, kappa_dot_data_no_rec, label='no rec ')\n",
    "\n",
    "plt.plot([1e-3,1e10], [1,1], 'k--')\n",
    "plt.plot([1e-3,1e10], [1e-3,1e-3], 'k:')\n",
    "plt.plot([1e-3,1e10], [1e3,1e3], 'k:')\n",
    "\n",
    "plt.xlim(6e6,9e6)\n",
    "plt.ylim(1e-6,1e6)\n",
    "plt.xscale('log')\n",
    "plt.yscale('log')\n",
    "plt.xlabel('z', fontsize=16)\n",
    "plt.ylabel('$\\Gamma_{\\mathrm{DR-DM}}$', fontsize=16)\n",
    "plt.title('Comoving Scattering Rate')\n",
    "plt.legend()\n",
    "plt.show()"
   ]
  },
  {
   "cell_type": "markdown",
   "id": "00cdd4eb",
   "metadata": {},
   "source": [
    "## Generate Data (shouldn't need to touch unless re-running CLASS)"
   ]
  },
  {
   "cell_type": "code",
   "execution_count": 28,
   "id": "230e4406",
   "metadata": {},
   "outputs": [],
   "source": [
    "from classy import Class"
   ]
  },
  {
   "cell_type": "code",
   "execution_count": 29,
   "id": "d4addcaf",
   "metadata": {},
   "outputs": [],
   "source": [
    "def getPk(classObj):\n",
    "    kk = np.logspace(-4,np.log10(pk_max),500) # k in h/Mpc\n",
    "    Pk = [] # P(k) in (Mpc/h)**3\n",
    "    h = classObj.h() # get reduced Hubble for conversions to 1/Mpc\n",
    "    for k in kk:\n",
    "        Pk.append(classObj.pk(k*h,z_pk)*h**3) # function .pk(k,z)\n",
    "    return Pk;\n",
    "\n",
    "def getPkRatio(classObj1, classObj2):\n",
    "    #Returns the ratio of the power spectrum of 1 to 2\n",
    "    return[getPk(classObj1)[i]/getPk(classObj2)[i] for i in range(len(kk))]\n",
    "    \n",
    "\n",
    "def getdmu_idm_dr(classObj):\n",
    "    return classObj.get_thermodynamics()['dmu_idm_dr']\n",
    "    \n",
    "def getzs(classObj):\n",
    "    return classObj.get_thermodynamics()['z']\n",
    "\n",
    "def getH(classObj):\n",
    "    zs = np.flip(classObj.get_background()['z'])\n",
    "    Hs = np.flip(classObj.get_background()['H [1/Mpc]'])\n",
    "    return UnivariateSpline(zs, Hs, k=1.0, s=0.0)\n",
    "\n",
    "\n",
    "def getDat(classObj):\n",
    "    dmu_idm_dr = getdmu_idm_dr(classObj);\n",
    "    zs = getzs(classObj);\n",
    "    Hspline = getH(classObj);\n",
    "    \n",
    "    return dmu_idm_dr, zs, Hspline\n",
    "\n",
    "def my_dmu_idm_dr(z, A_rec, a_idm_dr = 1, Omega0_idm_dr = 0.12038, T_rec = 6.0e5, h =0.67556, xi_idr = 0.3 ):\n",
    "    base_rate = a_idm_dr * ((1+z)/(1e7))**4 * Omega0_idm_dr * h**2 \n",
    "\n",
    "    if T_rec >= (xi_idr * 2.73) * (1+z) and (xi_idr*2.73) * (1+z) > T_rec*0.99:\n",
    "        return base_rate*(1+A_rec)\n",
    "    else:\n",
    "        return base_rate\n",
    "\n",
    "def save_class_obj(class_obj,A_rec):\n",
    "    model = class_obj\n",
    "    data_file=h5pydir+'class_model_data_' +'%.2e'%A_rec+'.hdf5'\n",
    "    with h5py.File(data_file, 'w') as f:    \n",
    "        # Scalar group\n",
    "        data = model.get_perturbations()['scalar']\n",
    "        sub_group = f.create_group('scalar')\n",
    "        for i, k in enumerate(BM_KS):\n",
    "            sub_sub_group = sub_group.create_group(f'k={k}')\n",
    "            d = data[i]\n",
    "            for key, val in d.items():\n",
    "                sub_sub_group.create_dataset(key, data=val)\n",
    "        \n",
    "        # Background group\n",
    "        data = model.get_background()\n",
    "        sub_group = f.create_group('background')\n",
    "        for key, val in data.items():\n",
    "            sub_group.create_dataset(key, data=val)\n",
    "        \n",
    "        # Thermo group\n",
    "        data = model.get_thermodynamics()\n",
    "        sub_group = f.create_group('thermodynamics')\n",
    "        for key, val in data.items():\n",
    "            sub_group.create_dataset(key, data=val)\n",
    "\n",
    "        # Power Spectrum group\n",
    "        data = getPk(model)\n",
    "        sub_group = f.create_group('power_spectrum')\n",
    "        sub_group.create_dataset('kk', data=kk)\n",
    "        sub_group.create_dataset('Pk', data=data) "
   ]
  },
  {
   "cell_type": "code",
   "execution_count": 6,
   "id": "40cca9df",
   "metadata": {},
   "outputs": [
    {
     "ename": "NameError",
     "evalue": "name 'omega0_cdm' is not defined",
     "output_type": "error",
     "traceback": [
      "\u001b[0;31m---------------------------------------------------------------------------\u001b[0m",
      "\u001b[0;31mNameError\u001b[0m                                 Traceback (most recent call last)",
      "\u001b[0;32m/var/folders/qd/09mj47cx551c65glw6y47d6r0000gn/T/ipykernel_54207/2890934048.py\u001b[0m in \u001b[0;36m<module>\u001b[0;34m\u001b[0m\n\u001b[1;32m      1\u001b[0m commonset = {\n\u001b[1;32m      2\u001b[0m     \u001b[0;34m'omega_b'\u001b[0m\u001b[0;34m:\u001b[0m \u001b[0;36m0.022032\u001b[0m\u001b[0;34m,\u001b[0m\u001b[0;34m\u001b[0m\u001b[0;34m\u001b[0m\u001b[0m\n\u001b[0;32m----> 3\u001b[0;31m     \u001b[0;34m'omega_cdm'\u001b[0m\u001b[0;34m:\u001b[0m \u001b[0momega0_cdm\u001b[0m\u001b[0;34m,\u001b[0m\u001b[0;34m\u001b[0m\u001b[0;34m\u001b[0m\u001b[0m\n\u001b[0m\u001b[1;32m      4\u001b[0m     \u001b[0;34m'h'\u001b[0m\u001b[0;34m:\u001b[0m \u001b[0;36m0.67556\u001b[0m\u001b[0;34m,\u001b[0m\u001b[0;34m\u001b[0m\u001b[0;34m\u001b[0m\u001b[0m\n\u001b[1;32m      5\u001b[0m     \u001b[0;34m'A_s'\u001b[0m\u001b[0;34m:\u001b[0m \u001b[0;36m2.215e-9\u001b[0m\u001b[0;34m,\u001b[0m\u001b[0;34m\u001b[0m\u001b[0;34m\u001b[0m\u001b[0m\n",
      "\u001b[0;31mNameError\u001b[0m: name 'omega0_cdm' is not defined"
     ]
    }
   ],
   "source": [
    "commonset = {\n",
    "    'omega_b': 0.022032,\n",
    "    'omega_cdm': omega0_cdm,\n",
    "    'h': 0.67556,\n",
    "    'A_s': 2.215e-9,\n",
    "    'n_s': 0.9619,\n",
    "    'tau_reio': 0.0925,\n",
    "    'output': 'tCl,pCl,lCl,mPk',\n",
    "    'lensing': 'yes',\n",
    "    'P_k_max_1/Mpc': pk_max,\n",
    "    'z_pk': 0.0,\n",
    "    'k_output_values':'10',\n",
    "}\n",
    "\n",
    "idrset = {\n",
    "    # Dark matter/radiation parameters\n",
    "    'f_idm_dr': f_idm_dr, #Amount of dm that is interacting\n",
    "    'xi_idr': 0.3, \n",
    "    'stat_f_idr': 0.875, #fermionic\n",
    "    'nindex_idm_dr': 4.0, \n",
    "    'm_idm': 1.0e3,\n",
    "    # Scattering rate parameters\n",
    "    'a_idm_dr': 1.0e0,\n",
    "    'rec_case': 4, #1 = power, 2 = Theta, 3 = delta function, 4 = no recoupling \n",
    "}"
   ]
  },
  {
   "cell_type": "code",
   "execution_count": 328,
   "id": "5e46e751",
   "metadata": {},
   "outputs": [],
   "source": [
    "# A_recs = [1e5, 10**(5.5), 1e6]\n",
    "A_recs = [1e6, 1e7, 1e8]\n",
    "# sigma_fac = 0.002\n",
    "sigma_fac = 0.001\n",
    "# A_recs = [1]\n",
    "\n",
    "for A_rec in A_recs:\n",
    "    cos = Class()\n",
    "    cos.set(commonset)\n",
    "    cos.set(idrset)\n",
    "    cos.set({\n",
    "        'rec_case': 3,\n",
    "        'A_rec':A_rec,\n",
    "        'T_rec':T_rec*10,\n",
    "        'sigma' : sigma_fac*T_rec*10 #Gaussian width\n",
    "        })\n",
    "    cos.compute() \n",
    "\n",
    "    save_class_obj(cos,A_rec)\n",
    "    \n",
    "    # clear content of cos (to reuse it for another model)\n",
    "    cos.struct_cleanup()\n",
    "    # reset parameters to default\n",
    "    cos.empty()"
   ]
  },
  {
   "cell_type": "code",
   "execution_count": 80,
   "id": "6e3e2331",
   "metadata": {},
   "outputs": [],
   "source": [
    "f = dict(scalar = cos.get_perturbations()['scalar'][0], thermodynamics = cos.get_thermodynamics(), background = cos.get_background())\n",
    "tau_data = np.array(f['scalar']['tau [Mpc]'])\n",
    "delta_chi_data = np.array(f['scalar']['delta_idm_dr'])\n",
    "phi_data = np.array(f['scalar']['phi'])\n",
    "kappa_dot_data = np.flip(np.array(f['thermodynamics']['dmu_idm_dr'])) #!This isn't kappadot, this is kappadot/Rdark\n",
    "z_data = np.flip(np.array(f['thermodynamics']['z']))\n",
    "thermo_tau_data = np.flip(np.array(f['thermodynamics']['conf. time [Mpc]']))\n",
    "cx2_data = np.flip(np.array(f['thermodynamics']['c_idm_dr^2']))\n",
    "\n",
    "theta_data = np.array(f['scalar']['theta_idm_dr'])\n",
    "theta_dr_data = np.array(f['scalar']['theta_idr'])\n",
    "\n",
    "psi_data = np.array(f['scalar']['psi'])\n",
    "\n",
    "rho_idr_data = np.array(f['background']['(.)rho_idr'])\n",
    "rho_idm_data = np.array(f['background']['(.)rho_idm_dr'])\n",
    "bkg_tau_data = np.array(f['background']['conf. time [Mpc]'])\n",
    "\n",
    "rho_idr = UnivariateSpline(bkg_tau_data, rho_idr_data, **spline_pars)\n",
    "rho_idm = UnivariateSpline(bkg_tau_data, rho_idm_data, **spline_pars)\n",
    "\n",
    "delta_chi = UnivariateSpline(tau_data, delta_chi_data, **spline_pars)\n",
    "delta_chi_dot = delta_chi.derivative()\n",
    "delta_chi_ddot = delta_chi_dot.derivative()\n",
    "\n",
    "phi = UnivariateSpline(tau_data, phi_data, **spline_pars)\n",
    "phi_dot = phi.derivative()\n",
    "phi_ddot = phi_dot.derivative()\n",
    "\n",
    "theta_chi = UnivariateSpline(tau_data, theta_data, **spline_pars)\n",
    "theta_chi_dot = theta_chi.derivative()\n",
    "theta_dr = UnivariateSpline(tau_data, theta_dr_data, **spline_pars)\n",
    "\n",
    "psi = UnivariateSpline(tau_data, psi_data, **spline_pars)\n",
    "cx2_chi = UnivariateSpline(thermo_tau_data, cx2_data, **spline_pars)\n",
    "\n",
    "kappa_dot_taus = UnivariateSpline(thermo_tau_data, kappa_dot_data, **spline_pars)\n",
    "kappa_dot_zs = UnivariateSpline(np.flip(z_data), np.flip(kappa_dot_data), **spline_pars)\n",
    "thermo_taus = UnivariateSpline(np.flip(z_data), np.flip(thermo_tau_data), **spline_pars)\n",
    "thermo_zs = UnivariateSpline(thermo_tau_data, z_data, **spline_pars)\n",
    "\n",
    "\n",
    "a_data = 1/(1+z_data)\n",
    "a = UnivariateSpline(thermo_tau_data, a_data, **spline_pars)\n",
    "aprime = a.derivative()\n",
    "\n",
    "Pks = getPk(cos)"
   ]
  },
  {
   "cell_type": "code",
   "execution_count": 106,
   "id": "68385f23",
   "metadata": {},
   "outputs": [
    {
     "data": {
      "text/plain": [
       "'$-1.3 \\\\times 10^{-4}$'"
      ]
     },
     "execution_count": 106,
     "metadata": {},
     "output_type": "execute_result"
    }
   ],
   "source": [
    "scientific_format(thermo_taus.derivative()(thermo_zs(6.3e-2))*T_rec*10*sigma_fac/(2.73 * xi))"
   ]
  },
  {
   "cell_type": "code",
   "execution_count": 329,
   "id": "5182fca3",
   "metadata": {},
   "outputs": [],
   "source": [
    "#This is lhs of 2.16 with (theta_dr - theta_chi) divided over\n",
    "\n",
    "# lhs_dat = -(theta_chi_dot(tau_tests) - cx2_chi(tau_tests) * k**2 * delta_chi(tau_tests) + aprime(tau_tests)/a(tau_tests) *theta_chi(tau_tests) - k**2 *psi(tau_tests))/(theta_chi(tau_tests) - theta_dr(tau_tests))\n",
    "lhs_dat = 1/(4/3*rho_idr(tau_tests)/rho_idm(tau_tests))*-(theta_chi_dot(tau_tests) - cx2_chi(tau_tests) * k**2 * delta_chi(tau_tests) + aprime(tau_tests)/a(tau_tests) *theta_chi(tau_tests) - k**2 *psi(tau_tests))/(theta_chi(tau_tests) - theta_dr(tau_tests))\n",
    "lhs = UnivariateSpline(tau_tests,lhs_dat, s=0, k=1, ext=1)\n",
    "# rhs_dat =  4/3*rho_idr(tau_tests)/rho_idm(tau_tests)*kappa_dot_taus(tau_tests)\n",
    "rhs_dat =  kappa_dot_taus(tau_tests)\n",
    "\n",
    "rhs = UnivariateSpline(tau_tests, rhs_dat, s=0, k=1, ext=1)\n",
    "\n",
    "def integral_lhs(tau, epsilon):\n",
    "    return lhs.integral(tau-epsilon, tau+epsilon)\n",
    "\n",
    "def integral_rhs(tau, epsilon):\n",
    "    return rhs.integral(tau-epsilon, tau+epsilon)"
   ]
  },
  {
   "cell_type": "code",
   "execution_count": 330,
   "id": "2cbfa5b2",
   "metadata": {},
   "outputs": [],
   "source": [
    "lhs_integrals = [integral_lhs(tau, 5e-3) for tau in tau_tests]\n",
    "rhs_integrals = [integral_rhs(tau, 5e-3) for tau in tau_tests]\n"
   ]
  },
  {
   "cell_type": "code",
   "execution_count": 170,
   "id": "a9229357",
   "metadata": {},
   "outputs": [
    {
     "name": "stdout",
     "output_type": "stream",
     "text": [
      "0.36691108605553213 0.33612983777882455\n"
     ]
    }
   ],
   "source": [
    "print(rhs.integral(6e-2,7e-2), lhs.integral(6e-2,7e-2))"
   ]
  },
  {
   "cell_type": "code",
   "execution_count": 175,
   "id": "1570d16e",
   "metadata": {},
   "outputs": [],
   "source": [
    "Rdark = 4/3*rho_idr(7e-2)/rho_idm(7e-2) \n",
    "#? Looks like there was extra factor of Rdark! Now good agreement!\n",
    "# kappa_int = kappa_dot_taus.integral(6e-2,7e-2)*Rdark\n",
    "kappa_int = kappa_dot_taus.integral(6e-2,7e-2) #! This is integral of kappadot/Rdark"
   ]
  },
  {
   "cell_type": "code",
   "execution_count": 161,
   "id": "72ea2df6",
   "metadata": {},
   "outputs": [
    {
     "data": {
      "text/plain": [
       "0.36625641120472574"
      ]
     },
     "execution_count": 161,
     "metadata": {},
     "output_type": "execute_result"
    }
   ],
   "source": [
    "tau_rec = 6.3e-2\n",
    "A_peak = thermo_taus.derivative()(thermo_zs(tau_rec))/(2.73 * xi )*A_rec*-((1+thermo_zs(tau_rec))/(1e7))**4 * 0.12038 \n",
    "A_peak"
   ]
  },
  {
   "cell_type": "code",
   "execution_count": 162,
   "id": "29baed5f",
   "metadata": {},
   "outputs": [
    {
     "data": {
      "text/plain": [
       "-28.607496208861562"
      ]
     },
     "execution_count": 162,
     "metadata": {},
     "output_type": "execute_result"
    }
   ],
   "source": [
    "1/(-((1+thermo_zs(6.3e-2))/(1e7))**4 * 0.12038 )"
   ]
  },
  {
   "cell_type": "code",
   "execution_count": 163,
   "id": "a1f66d63",
   "metadata": {},
   "outputs": [
    {
     "data": {
      "text/plain": [
       "1.001787122070159"
      ]
     },
     "execution_count": 163,
     "metadata": {},
     "output_type": "execute_result"
    }
   ],
   "source": [
    "kappa_int/A_peak"
   ]
  },
  {
   "cell_type": "code",
   "execution_count": 164,
   "id": "be546065",
   "metadata": {},
   "outputs": [
    {
     "data": {
      "text/plain": [
       "(0.03, 0.09)"
      ]
     },
     "execution_count": 164,
     "metadata": {},
     "output_type": "execute_result"
    },
    {
     "data": {
      "image/png": "[encoded data removed]",
      "text/plain": [
       "<Figure size 576x432 with 1 Axes>"
      ]
     },
     "metadata": {
      "needs_background": "light"
     },
     "output_type": "display_data"
    }
   ],
   "source": [
    "plt.loglog(tau_tests,thermo_taus(thermo_zs(tau_tests)))\n",
    "plt.xlim(3e-2, 9e-2)"
   ]
  },
  {
   "cell_type": "code",
   "execution_count": 349,
   "id": "8d2c10c5",
   "metadata": {},
   "outputs": [
    {
     "data": {
      "image/png": "[encoded data removed]",
      "text/plain": [
       "<Figure size 576x432 with 1 Axes>"
      ]
     },
     "metadata": {
      "needs_background": "light"
     },
     "output_type": "display_data"
    }
   ],
   "source": [
    "# 1/(4/3*rho_idr(tau_tests)/rho_idm(tau_tests))*-(  - k**2 *psi(tau_tests))/(theta_chi(tau_tests) - theta_dr(tau_tests))\n",
    "plt.loglog(tau_tests,1/(4/3*rho_idr(tau_tests)/rho_idm(tau_tests))*-(theta_chi_dot(tau_tests))/(theta_chi(tau_tests) - theta_dr(tau_tests)), label='theta_chi_dot')\n",
    "plt.loglog(tau_tests,1/(4/3*rho_idr(tau_tests)/rho_idm(tau_tests))*(- cx2_chi(tau_tests) * k**2 * delta_chi(tau_tests))/(theta_chi(tau_tests) - theta_dr(tau_tests)), label='c2 k deltachi')\n",
    "plt.loglog(tau_tests,1/(4/3*rho_idr(tau_tests)/rho_idm(tau_tests))*(aprime(tau_tests)/a(tau_tests) *theta_chi(tau_tests))/(theta_chi(tau_tests) - theta_dr(tau_tests)), label='H theta_chi')\n",
    "plt.loglog(tau_tests,1/(4/3*rho_idr(tau_tests)/rho_idm(tau_tests))*( k**2 *psi(tau_tests))/(theta_chi(tau_tests) - theta_dr(tau_tests)), label='k2 psi')\n",
    "\n",
    "\n",
    "plt.xlim(6e-2, 7e-2)\n",
    "# plt.ylim(1e-5,1e2)\n",
    "plt.title('sigma_fac = {}'.format(sigma_fac))\n",
    "plt.legend()\n",
    "plt.show()"
   ]
  },
  {
   "cell_type": "code",
   "execution_count": 165,
   "id": "fb039908",
   "metadata": {},
   "outputs": [
    {
     "data": {
      "image/png": "[encoded data removed]",
      "text/plain": [
       "<Figure size 576x432 with 1 Axes>"
      ]
     },
     "metadata": {
      "needs_background": "light"
     },
     "output_type": "display_data"
    }
   ],
   "source": [
    "plt.loglog(tau_tests,lhs_integrals, label='lhs_integrals')\n",
    "plt.loglog(tau_tests, np.ones_like(tau_tests)*kappa_int, label='kappa_int')\n",
    "plt.loglog(tau_tests, np.ones_like(tau_tests)*A_peak, '--',label='A_peak')\n",
    "plt.xlim(3e-2, 9e-2)\n",
    "plt.ylim(1e-5,1e2)\n",
    "plt.title('sigma_fac = {}'.format(sigma_fac))\n",
    "plt.legend()\n",
    "plt.show()"
   ]
  },
  {
   "cell_type": "code",
   "execution_count": 34,
   "id": "7cc1fece",
   "metadata": {},
   "outputs": [
    {
     "data": {
      "text/plain": [
       "(1e-07, 100000.0)"
      ]
     },
     "execution_count": 34,
     "metadata": {},
     "output_type": "execute_result"
    },
    {
     "data": {
      "image/png": "[encoded data removed]",
      "text/plain": [
       "<Figure size 576x432 with 1 Axes>"
      ]
     },
     "metadata": {
      "needs_background": "light"
     },
     "output_type": "display_data"
    }
   ],
   "source": [
    "plt.loglog(tau_tests, lhs(tau_tests))\n",
    "plt.loglog(tau_tests, rhs(tau_tests), '--')\n",
    "plt.xlim(6e-2, 7e-2)\n",
    "plt.ylim(1e-7,1e5)"
   ]
  },
  {
   "cell_type": "code",
   "execution_count": 35,
   "id": "c3082b1e",
   "metadata": {},
   "outputs": [
    {
     "data": {
      "text/plain": [
       "5.226499985834897"
      ]
     },
     "execution_count": 35,
     "metadata": {},
     "output_type": "execute_result"
    }
   ],
   "source": [
    "lhs.integral(6e-2,7e-2)"
   ]
  },
  {
   "cell_type": "code",
   "execution_count": 175,
   "id": "c4120280",
   "metadata": {},
   "outputs": [
    {
     "data": {
      "text/plain": [
       "(1e-07, 1000.0)"
      ]
     },
     "execution_count": 175,
     "metadata": {},
     "output_type": "execute_result"
    },
    {
     "data": {
      "image/png": "[encoded data removed]",
      "text/plain": [
       "<Figure size 576x432 with 1 Axes>"
      ]
     },
     "metadata": {
      "needs_background": "light"
     },
     "output_type": "display_data"
    }
   ],
   "source": [
    "#Shorter Recoupling\n",
    "\n",
    "#left and right side of Eq 2.16 from paper\n",
    "tau_tests = np.geomspace(tau_data[0],tau_data[-1], int(1e4))\n",
    "\n",
    "plt.loglog(tau_tests,abs(theta_chi_dot(tau_tests) - cx2_chi(tau_tests) * k**2 * delta_chi(tau_tests) + aprime(tau_tests)/a(tau_tests) *theta_chi(tau_tests) - k**2 *psi(tau_tests)),label='LHS')\n",
    "plt.loglog(tau_tests, abs(4/3*rho_idr(tau_tests)/rho_idm(tau_tests)*kappa_dot_taus(tau_tests)*(theta_chi(tau_tests) - theta_dr(tau_tests))), '.', label = 'RHS')\n",
    "\n",
    "plt.title('Eq. (2.16) from draft')\n",
    "plt.xlabel('$\\\\tau$')\n",
    "plt.legend()\n",
    "\n",
    "plt.xlim(6e-2, 7e-2)\n",
    "plt.ylim(1e-7,1e3)\n"
   ]
  },
  {
   "cell_type": "code",
   "execution_count": 34,
   "id": "36cdc616",
   "metadata": {},
   "outputs": [
    {
     "data": {
      "text/plain": [
       "(1e-07, 1000.0)"
      ]
     },
     "execution_count": 34,
     "metadata": {},
     "output_type": "execute_result"
    },
    {
     "data": {
      "image/png": "[encoded data removed]",
      "text/plain": [
       "<Figure size 576x432 with 1 Axes>"
      ]
     },
     "metadata": {
      "needs_background": "light"
     },
     "output_type": "display_data"
    }
   ],
   "source": [
    "#Shorter Recoupling\n",
    "\n",
    "#left and right side of Eq 2.16 from paper\n",
    "tau_tests = np.geomspace(tau_data[0],tau_data[-1], int(1e4))\n",
    "\n",
    "plt.loglog(tau_tests,abs(theta_chi_dot(tau_tests) - cx2_chi(tau_tests) * k**2 * delta_chi(tau_tests) + aprime(tau_tests)/a(tau_tests) *theta_chi(tau_tests) - k**2 *psi(tau_tests)),label='LHS')\n",
    "plt.loglog(tau_tests, abs(4/3*rho_idr(tau_tests)/rho_idm(tau_tests)*kappa_dot_taus(tau_tests)*(theta_chi(tau_tests) - theta_dr(tau_tests))), '.', label = 'RHS')\n",
    "\n",
    "plt.title('Eq. (2.16) from draft')\n",
    "plt.xlabel('$\\\\tau$')\n",
    "plt.legend()\n",
    "\n",
    "plt.xlim(6e-2, 7e-2)\n",
    "plt.ylim(1e-7,1e3)\n"
   ]
  },
  {
   "cell_type": "code",
   "execution_count": 325,
   "id": "be546065",
   "metadata": {},
   "outputs": [],
   "source": [
    "A_rec = A_recs[-1]\n",
    "base_rate = 1 * ((1+z_data)/(1e7))**4 * 0.12038 \n",
    "T_idr = 2.73 * xi * (1+z_data)\n",
    "sigma2 = (sigma_fac*T_rec*10)**2\n",
    "delta = T_idr - T_rec*10\n",
    "gauss = np.exp(-delta**2/(2*sigma2))/np.sqrt(2*np.pi*sigma2)\n",
    "my_dmu_idm_dr_gauss = base_rate*(1 + A_rec * gauss)\n"
   ]
  },
  {
   "cell_type": "code",
   "execution_count": 326,
   "id": "47ac8c0a",
   "metadata": {},
   "outputs": [
    {
     "data": {
      "image/png": "[encoded data removed]",
      "text/plain": [
       "<Figure size 576x432 with 1 Axes>"
      ]
     },
     "metadata": {
      "needs_background": "light"
     },
     "output_type": "display_data"
    }
   ],
   "source": [
    "for i, A_rec in reversed(list(enumerate(A_recs))):\n",
    "    plt.plot(z_data, kappa_dot_zs(z_data))\n",
    "    plt.plot(np.flip(z_data), np.flip(kappa_dot_data), '.')\n",
    "\n",
    "plt.plot(z_data, my_dmu_idm_dr_gauss, label='python gauss')\n",
    "# plt.plot(z_data_no_rec, kappa_dot_data_no_rec, label='no rec ')\n",
    "\n",
    "plt.plot([1e-3,1e10], [1,1], 'k--')\n",
    "plt.plot([1e-3,1e10], [1e-3,1e-3], 'k:')\n",
    "plt.plot([1e-3,1e10], [1e3,1e3], 'k:')\n",
    "\n",
    "plt.xlim(6e6,8e6)\n",
    "plt.ylim(1e-8,1e6)\n",
    "# plt.xscale('log')\n",
    "plt.yscale('log')\n",
    "plt.xlabel('z', fontsize=16)\n",
    "plt.ylabel('$\\Gamma_{\\mathrm{DR-DM}}$', fontsize=16)\n",
    "plt.title('Comoving Scattering Rate')\n",
    "plt.legend()\n",
    "plt.show()"
   ]
  },
  {
   "cell_type": "code",
   "execution_count": 323,
   "id": "d4aefbeb",
   "metadata": {},
   "outputs": [
    {
     "data": {
      "text/plain": [
       "Text(0, 0.5, 'dmu_idm_dr')"
      ]
     },
     "execution_count": 323,
     "metadata": {},
     "output_type": "execute_result"
    },
    {
     "data": {
      "image/png": "[encoded data removed]",
      "text/plain": [
       "<Figure size 576x432 with 1 Axes>"
      ]
     },
     "metadata": {
      "needs_background": "light"
     },
     "output_type": "display_data"
    }
   ],
   "source": [
    "plt.loglog(thermo_tau_data, kappa_dot_taus(thermo_tau_data))\n",
    "plt.loglog(thermo_tau_data, base_rate)\n",
    "\n",
    "plt.xlim(6e-2,6.7e-2)\n",
    "plt.ylim(1e-3,1e3)\n",
    "plt.xlabel('tau')\n",
    "plt.ylabel('dmu_idm_dr')"
   ]
  },
  {
   "cell_type": "code",
   "execution_count": 185,
   "id": "50b42c3c",
   "metadata": {},
   "outputs": [
    {
     "data": {
      "text/plain": [
       "110.14559763717263"
      ]
     },
     "execution_count": 185,
     "metadata": {},
     "output_type": "execute_result"
    }
   ],
   "source": [
    "rec_tau_idxs = np.argwhere(np.logical_and(thermo_tau_data > 6e-2, thermo_tau_data < 6.7e-2)).squeeze()\n",
    "np.exp(Rdark*(np.trapz(kappa_dot_taus(thermo_tau_data[rec_tau_idxs]), thermo_tau_data[rec_tau_idxs]) - np.trapz(base_rate[rec_tau_idxs], thermo_tau_data[rec_tau_idxs]))) "
   ]
  },
  {
   "cell_type": "code",
   "execution_count": 199,
   "id": "badd1e9c",
   "metadata": {},
   "outputs": [
    {
     "data": {
      "text/plain": [
       "0.02902092509666221"
      ]
     },
     "execution_count": 199,
     "metadata": {},
     "output_type": "execute_result"
    }
   ],
   "source": [
    "np.exp(kappa_dot_taus.integral(6e-2,7e-2)/Rdark)-1"
   ]
  },
  {
   "cell_type": "code",
   "execution_count": 201,
   "id": "8c04796a",
   "metadata": {},
   "outputs": [
    {
     "data": {
      "text/plain": [
       "0.02860779201605767"
      ]
     },
     "execution_count": 201,
     "metadata": {},
     "output_type": "execute_result"
    }
   ],
   "source": [
    "kappa_dot_taus.integral(6e-2,7e-2)/Rdark"
   ]
  },
  {
   "cell_type": "code",
   "execution_count": 211,
   "id": "9d3cd210",
   "metadata": {},
   "outputs": [
    {
     "data": {
      "text/plain": [
       "0.7937968698747687"
      ]
     },
     "execution_count": 211,
     "metadata": {},
     "output_type": "execute_result"
    }
   ],
   "source": [
    "tau_recs = np.logspace(np.log10(6e-2),np.log10(7e-2),100)\n",
    "np.max(abs((delta_chi_dot(tau_recs) - 3*phi_dot(tau_recs) - theta_dr(tau_recs))/(delta_chi_dot_no_rec(tau_recs) - 3*phi_dot_no_rec(tau_recs) - theta_dr_no_rec(tau_recs)) - 1))/(kappa_dot_taus.integral(6e-2,7e-2)/Rdark)"
   ]
  },
  {
   "cell_type": "code",
   "execution_count": 200,
   "id": "8d2e8a92",
   "metadata": {},
   "outputs": [
    {
     "data": {
      "image/png": "[encoded data removed]",
      "text/plain": [
       "<Figure size 576x432 with 1 Axes>"
      ]
     },
     "metadata": {
      "needs_background": "light"
     },
     "output_type": "display_data"
    }
   ],
   "source": [
    "A_recs = [1e9]\n",
    "\n",
    "for i, A_rec in reversed(list(enumerate(A_recs))):\n",
    "    plt.plot(taus, abs((delta_chi_dot(taus) - 3*phi_dot(taus) - theta_dr(taus))/(delta_chi_dot_no_rec(taus) - 3*phi_dot_no_rec(taus) - theta_dr_no_rec(taus)) - 1), label='A_rec = ' + scientific_format(A_rec))\n",
    "\n",
    "    # plt.plot(np.linspace(0.1,1,100), (np.exp(dTaus[i]*S_inv*dmu_peaks[i])-1)*np.ones(100), 'k--')\n",
    "    plt.plot(taus, np.exp(kappa_dot_taus.integral(6e-2,7e-2)/Rdark)-1*np.ones_like(taus), 'k--')\n",
    "\n",
    "\n",
    "plt.xlim(5e-2,1e-1)\n",
    "plt.xlabel('tau [Mpc]')\n",
    "plt.ylabel('$|(\\dot{\\delta_\\chi} - 3 \\dot\\phi - \\Theta_{dr})/ (\\dot{\\delta_\\chi} - 3 \\dot\\phi - \\Theta_{dr})_0 - 1|$')\n",
    "\n",
    "plt.legend(loc='upper left')\n",
    "\n",
    "plt.yscale('log')\n",
    "plt.xscale('log')\n",
    "plt.ylim(3e-5,1e-1)\n",
    "\n",
    "\n",
    "plt.tight_layout()\n",
    "\n",
    "# plt.savefig('Figures/delta_chi_compare2.pdf')"
   ]
  },
  {
   "cell_type": "code",
   "execution_count": 116,
   "id": "cb7c0d66",
   "metadata": {},
   "outputs": [],
   "source": [
    "def discont(tau, epsilon):\n",
    "    return delta_chi_dot(tau+epsilon) - 3*phi_dot(tau + epsilon) - theta_dr(tau + epsilon)\n",
    "    # return delta_chi_dot(tau+epsilon) - 3*phi_dot(tau + epsilon) \n",
    "\n",
    "def discont_deriv(tau, epsilon):\n",
    "    return delta_chi_dot.derivative()(tau+epsilon) - 3*phi_dot.derivative()(tau + epsilon) - theta_dr.derivative()(tau + epsilon)\n",
    "\n",
    "def discont_ratio(tau, epsilon):\n",
    "    return discont(tau, epsilon)/discont(tau,-epsilon)"
   ]
  },
  {
   "cell_type": "code",
   "execution_count": 120,
   "id": "ab142c33",
   "metadata": {},
   "outputs": [
    {
     "name": "stderr",
     "output_type": "stream",
     "text": [
      "/var/folders/qd/09mj47cx551c65glw6y47d6r0000gn/T/ipykernel_51116/973600123.py:1: RuntimeWarning: invalid value encountered in log\n",
      "  plt.plot(taus, np.log(discont_ratio(taus, 1e-4)), label='A_rec = ' + scientific_format(A_rec))\n"
     ]
    },
    {
     "data": {
      "text/plain": [
       "(0.05, 0.08)"
      ]
     },
     "execution_count": 120,
     "metadata": {},
     "output_type": "execute_result"
    },
    {
     "data": {
      "image/png": "[encoded data removed]",
      "text/plain": [
       "<Figure size 576x432 with 1 Axes>"
      ]
     },
     "metadata": {
      "needs_background": "light"
     },
     "output_type": "display_data"
    }
   ],
   "source": [
    "plt.plot(taus, np.log(discont_ratio(taus, 1e-4)), label='A_rec = ' + scientific_format(A_rec))\n",
    "plt.xscale('log')\n",
    "plt.xlim(5e-2,8e-2)\n",
    "# plt.ylim(2e0,5e0)"
   ]
  },
  {
   "cell_type": "code",
   "execution_count": 60,
   "id": "d27f4239",
   "metadata": {},
   "outputs": [
    {
     "data": {
      "text/plain": [
       "(2.0, 5.0)"
      ]
     },
     "execution_count": 60,
     "metadata": {},
     "output_type": "execute_result"
    },
    {
     "data": {
      "image/png": "[encoded data removed]",
      "text/plain": [
       "<Figure size 576x432 with 1 Axes>"
      ]
     },
     "metadata": {
      "needs_background": "light"
     },
     "output_type": "display_data"
    }
   ],
   "source": [
    "plt.loglog(taus, abs(discont(taus, 0)), label='A_rec = ' + scientific_format(A_rec))\n",
    "plt.xlim(5e-2,8e-2)\n",
    "plt.ylim(2e0,5e0)"
   ]
  },
  {
   "cell_type": "code",
   "execution_count": 73,
   "id": "be7af2d2",
   "metadata": {},
   "outputs": [
    {
     "name": "stdout",
     "output_type": "stream",
     "text": [
      "7948 7990\n"
     ]
    },
    {
     "data": {
      "text/plain": [
       "0.03497262290619396"
      ]
     },
     "execution_count": 73,
     "metadata": {},
     "output_type": "execute_result"
    }
   ],
   "source": [
    "newtaus = np.geomspace(1e-2,1e-1, int(1e4))\n",
    "idxs = np.argwhere(discont_deriv(newtaus,0) > 0 )\n",
    "print(np.min(idxs), np.max(idxs))\n",
    "discont(newtaus[np.max(idxs)], 0) - discont(newtaus[np.min(idxs)], 0)"
   ]
  },
  {
   "cell_type": "code",
   "execution_count": 61,
   "id": "b25f403d",
   "metadata": {},
   "outputs": [
    {
     "data": {
      "text/plain": [
       "1509"
      ]
     },
     "execution_count": 61,
     "metadata": {},
     "output_type": "execute_result"
    }
   ],
   "source": [
    "np.argmax(discont_deriv(taus, 0))"
   ]
  },
  {
   "cell_type": "code",
   "execution_count": 62,
   "id": "c9283e02",
   "metadata": {},
   "outputs": [
    {
     "data": {
      "text/plain": [
       "0.0626309401333678"
      ]
     },
     "execution_count": 62,
     "metadata": {},
     "output_type": "execute_result"
    }
   ],
   "source": [
    "taus[1509]"
   ]
  },
  {
   "cell_type": "code",
   "execution_count": 58,
   "id": "11307426",
   "metadata": {},
   "outputs": [
    {
     "data": {
      "text/plain": [
       "(0.05, 0.08)"
      ]
     },
     "execution_count": 58,
     "metadata": {},
     "output_type": "execute_result"
    },
    {
     "data": {
      "image/png": "[encoded data removed]",
      "text/plain": [
       "<Figure size 576x432 with 1 Axes>"
      ]
     },
     "metadata": {
      "needs_background": "light"
     },
     "output_type": "display_data"
    }
   ],
   "source": [
    "plt.loglog(taus, discont_deriv(taus, 0), label='A_rec = ' + scientific_format(A_rec))\n",
    "plt.xlim(5e-2,8e-2)\n",
    "\n"
   ]
  },
  {
   "cell_type": "code",
   "execution_count": 48,
   "id": "3bd9bf6a",
   "metadata": {},
   "outputs": [
    {
     "data": {
      "image/png": "[encoded data removed]",
      "text/plain": [
       "<Figure size 576x432 with 1 Axes>"
      ]
     },
     "metadata": {
      "needs_background": "light"
     },
     "output_type": "display_data"
    }
   ],
   "source": [
    "A_recs = [1e5, 10**(5.5), 1e6]\n",
    "\n",
    "for i, A_rec in reversed(list(enumerate(A_recs))):\n",
    "    taus = np.geomspace(tau_data[0],tau_data[-1], int(1e4))\n",
    "    plt.plot(taus, abs(discont(taus, 1e-4) - discont(taus, -1e-4)), label='A_rec = ' + scientific_format(A_rec))\n",
    "    plt.plot(taus, abs(discont(taus, 1e-5) - discont(taus, -1e-5)), label='A_rec = ' + scientific_format(A_rec))\n",
    "\n",
    "    # plt.plot(taus, abs(discont(taus, 1e-2) - discont(taus, -1e-2)), label='A_rec = ' + scientific_format(A_rec))\n",
    "    # plt.plot(taus, abs(discont(taus, 5e-2) - discont(taus, -5e-2)), label='A_rec = ' + scientific_format(A_rec))\n",
    "\n",
    "\n",
    "plt.xlabel('tau [Mpc]')\n",
    "# plt.ylabel('$|(\\dot{\\delta_\\chi} - 3 \\dot\\phi - \\Theta_{dr})/ (\\dot{\\delta_\\chi} - 3 \\dot\\phi - \\Theta_{dr})_0 - 1|$')\n",
    "\n",
    "# plt.legend(loc='upper left')\n",
    "\n",
    "plt.yscale('log')\n",
    "plt.xscale('log')\n",
    "plt.xlim(5e-2,8e-2)\n",
    "plt.ylim(1e-5,1e1)\n",
    "\n",
    "\n",
    "plt.tight_layout()\n",
    "\n",
    "# plt.savefig('Figures/delta_chi_compare2.pdf')"
   ]
  },
  {
   "cell_type": "code",
   "execution_count": null,
   "id": "dd00b289",
   "metadata": {},
   "outputs": [],
   "source": [
    "LambdaCDM = Class()\n",
    "LambdaCDM.set(commonset)\n",
    "LambdaCDM.compute()\n",
    "LambdaCDMPk = getPk(LambdaCDM);"
   ]
  },
  {
   "cell_type": "code",
   "execution_count": null,
   "id": "58ebebae",
   "metadata": {},
   "outputs": [],
   "source": [
    "idrNoRec = Class()\n",
    "idrNoRec.set(commonset)\n",
    "idrNoRec.set(idrset)\n",
    "\n",
    "idrNoRec.compute()"
   ]
  },
  {
   "cell_type": "code",
   "execution_count": null,
   "id": "79eb72c7",
   "metadata": {},
   "outputs": [],
   "source": [
    "model = idrNoRec\n",
    "with h5py.File(h5pydir+'class_model_data_no_rec.hdf5', 'w') as f:    \n",
    "    # Scalar group\n",
    "    data = model.get_perturbations()['scalar']\n",
    "    sub_group = f.create_group('scalar')\n",
    "    for i, k in enumerate(BM_KS):\n",
    "        sub_sub_group = sub_group.create_group(f'k={k}')\n",
    "        d = data[i]\n",
    "        for key, val in d.items():\n",
    "            sub_sub_group.create_dataset(key, data=val)\n",
    "    \n",
    "    # Background group\n",
    "    data = model.get_background()\n",
    "    sub_group = f.create_group('background')\n",
    "    for key, val in data.items():\n",
    "        sub_group.create_dataset(key, data=val)\n",
    "    \n",
    "    # Thermo group\n",
    "    data = model.get_thermodynamics()\n",
    "    sub_group = f.create_group('thermodynamics')\n",
    "    for key, val in data.items():\n",
    "        sub_group.create_dataset(key, data=val)\n",
    "\n",
    "    # Power Spectrum group\n",
    "    data = getPk(model)\n",
    "    sub_group = f.create_group('power_spectrum')\n",
    "    sub_group.create_dataset('kk', data=kk)\n",
    "    sub_group.create_dataset('Pk', data=data) "
   ]
  }
 ],
 "metadata": {
  "interpreter": {
   "hash": "1d93644de78784b52e1665efed99a57bcdf9c9cb0f07cf200ed55be113c20bd8"
  },
  "kernelspec": {
   "display_name": "kineticclass",
   "language": "python",
   "name": "python3"
  },
  "language_info": {
   "codemirror_mode": {
    "name": "ipython",
    "version": 3
   },
   "file_extension": ".py",
   "mimetype": "text/x-python",
   "name": "python",
   "nbconvert_exporter": "python",
   "pygments_lexer": "ipython3",
   "version": "3.9.7"
  }
 },
 "nbformat": 4,
 "nbformat_minor": 5
}
