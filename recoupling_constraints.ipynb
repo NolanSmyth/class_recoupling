{
 "cells": [
  {
   "cell_type": "markdown",
   "id": "83c50701",
   "metadata": {},
   "source": [
    "## Imports"
   ]
  },
  {
   "cell_type": "code",
   "execution_count": 1,
   "id": "62c9b18a",
   "metadata": {},
   "outputs": [
    {
     "name": "stderr",
     "output_type": "stream",
     "text": [
      "/Users/nolansmyth/opt/anaconda3/envs/kinetic_recoupling/lib/python3.9/site-packages/scipy/__init__.py:146: UserWarning: A NumPy version >=1.16.5 and <1.23.0 is required for this version of SciPy (detected version 1.24.2\n",
      "  warnings.warn(f\"A NumPy version >={np_minversion} and <{np_maxversion}\"\n"
     ]
    }
   ],
   "source": [
    "import matplotlib.pyplot as plt\n",
    "from matplotlib.colors import LogNorm\n",
    "\n",
    "import numpy as np\n",
    "from scipy.interpolate import UnivariateSpline\n",
    "import h5py\n",
    "from scipy.integrate import quadrature\n",
    "import pickle\n",
    "import pandas as pd\n",
    "\n",
    "from plots import scientific_format, dmu_idm_dr, plot_observations, plot_varied_recoupling\n",
    "from data_generation.variables import *\n",
    "from scipy.signal import argrelextrema\n",
    "from scipy.stats import chisquare\n",
    "\n",
    "import warnings\n",
    "\n",
    "warnings.filterwarnings('ignore')\n",
    "%load_ext autoreload\n",
    "%autoreload 2\n"
   ]
  },
  {
   "cell_type": "code",
   "execution_count": 2,
   "id": "dd4ceafb",
   "metadata": {},
   "outputs": [],
   "source": [
    "# h5pydir = '/Users/nolansmyth/Dropbox/kinetic_recoupling/h5py_dat/'\n",
    "h5pydir = 'h5py_dat/'\n",
    "\n",
    "# h5pydir = '<YOUR PATH HERE>Dropbox/kinetic_recoupling/h5py_dat/'"
   ]
  },
  {
   "cell_type": "code",
   "execution_count": 3,
   "id": "e97907ed",
   "metadata": {},
   "outputs": [],
   "source": [
    "plt.style.use(\"/Users/nolansmyth/Dropbox/kinetic_recoupling/figures/style.mplstyle\")\n",
    "# plt.style.use(\"<YOUR PATH HERE>Dropbox/kinetic_recoupling/figures/style.mplstyle\")"
   ]
  },
  {
   "cell_type": "code",
   "execution_count": 4,
   "id": "01a7a708",
   "metadata": {},
   "outputs": [],
   "source": [
    "pk_sd_interp = pickle.load(open(\"interps/pks_sd_interp.p\", \"rb\"))\n",
    "pk_dd_interp = pickle.load(open(\"interps/pks_dd_interp.p\", \"rb\"))\n",
    "pk_strong_interp = pickle.load(open(\"interps/pks_strong_interp.p\", \"rb\"))\n",
    "pk_strong_interp_late = pickle.load(open(\"interps/pks_strong_interp_late.p\", \"rb\"))\n",
    "best_fits_saved = np.load(\"./interps/best_fit_sds.npz\")\n",
    "best_a_dimless_arr = best_fits_saved[\"best_a_dimless_arr\"]"
   ]
  },
  {
   "cell_type": "code",
   "execution_count": 6,
   "id": "3a5b2600",
   "metadata": {},
   "outputs": [],
   "source": [
    "def plot_varied_recoupling_strong(Tr0, Ar0, Tr1, Ar1, save=False):\n",
    "    \"\"\"\n",
    "    Plot the interpolation between two scenarios with varied \n",
    "    recoupling temperature and/or strength (1,2).\n",
    "    Normalized to the first scenario (0), presumably no recoupling.\n",
    "    \"\"\"\n",
    "\n",
    "    zs = np.logspace(5, 8, 1000)\n",
    "    dmus1 = [dmu_idm_dr(Tr1, Ar1, z) for z in zs]\n",
    "\n",
    "    fig = plt.figure(1, figsize=(8, 8))\n",
    "    plt.subplot(211)\n",
    "    plt.plot(\n",
    "        kk,\n",
    "        # pk_strong_interp((Tr1, Ar1, kk)) / pk_dd_interp((Tr0, Ar0, kk)),\n",
    "        pk_strong_interp_late((Tr1, Ar1, kk)) / pk_dd_interp((Tr0, Ar0, kk)),\n",
    "\n",
    "        \"b\",\n",
    "        label=\"$T_\\mathrm{rec}$=%s eV, $A_\\mathrm{rec}$=%s\"\n",
    "        % (scientific_format(Tr1 * ktoev), scientific_format(Ar1)),\n",
    "    )\n",
    "    \n",
    "    plt.xscale(\"log\")\n",
    "    plt.yscale(\"log\")\n",
    "    plt.xlim(1e-1, 3e1)\n",
    "    # plt.ylim(0.97, 1)\n",
    "    plt.xlabel(\"k [h/Mpc]\")\n",
    "    plt.ylabel(\"$P(k)/P(k)_0$\")\n",
    "    plt.legend()\n",
    "    plt.title(\"Double Decoupling\")\n",
    "    plt.subplot(212)\n",
    "    plt.xscale(\"log\")\n",
    "    plt.yscale(\"log\")\n",
    "    plt.xlabel(\"z\")\n",
    "    plt.ylabel(\"$\\Gamma_{\\mathrm{DR-DM}}$\")\n",
    "    plt.plot(\n",
    "        zs,\n",
    "        dmus1,\n",
    "        \"b\",\n",
    "        label=\"$T_\\mathrm{rec}$=%s eV, $A_\\mathrm{rec}$=%s\"\n",
    "        % (scientific_format(Tr1 * ktoev), scientific_format(Ar1)),\n",
    "    )\n",
    "    \n",
    "    plt.plot(np.logspace(5, 8, 100), 1e-3 * np.ones(100), \"--k\")\n",
    "    plt.plot(np.logspace(5, 8, 100), np.ones(100), \"--k\")\n",
    "\n",
    "    plt.xlim(zs[0], zs[-1])\n",
    "    plt.ylim(1e-7, 1e7)\n",
    "\n",
    "    plt.legend()\n",
    "    fig.tight_layout(h_pad=2)\n",
    "\n",
    "    if save:\n",
    "        plot_dir = \"Figures/\"\n",
    "        filename = \"varying_recoupling_strong_{:.1e}{:.1e}{:.1e}{:.1e}.pdf\".format(\n",
    "            Tr1, Ar1\n",
    "        )\n",
    "\n",
    "        plt.savefig(plot_dir + filename)\n",
    "        plt.clf()\n",
    "    else:\n",
    "        plt.show()\n"
   ]
  },
  {
   "cell_type": "code",
   "execution_count": 7,
   "id": "f2a42434",
   "metadata": {},
   "outputs": [],
   "source": [
    "N_points = 100\n",
    "T_rec_arr = np.logspace(5, 7, N_points)\n",
    "# A_rec_strong_arr = np.logspace(-1, 8, N_points)\n",
    "# A_rec_arr = np.logspace(-1, 3, N_points)\n",
    "T_rec_strong_arr = np.logspace(4, 7, N_points)\n",
    "A_rec_strong_arr = np.logspace(-1, 7, N_points)\n",
    "\n",
    "Tr0 = T_rec_arr[0]\n",
    "Ar0 = A_rec_strong_arr[0]"
   ]
  },
  {
   "cell_type": "code",
   "execution_count": 8,
   "id": "ef5090d6",
   "metadata": {},
   "outputs": [],
   "source": [
    "def make_constraint_plot(kcrit, crit_val=0.5):\n",
    "    limit_grid = np.zeros((N_points, N_points))\n",
    "\n",
    "    for i, Tr in enumerate(T_rec_strong_arr):\n",
    "        for j, Ar in enumerate(A_rec_strong_arr):\n",
    "            if (\n",
    "                # pk_strong_interp((Tr, Ar, kcrit))\n",
    "                pk_strong_interp_late((Tr, Ar, kcrit))\n",
    "\n",
    "                / pk_dd_interp((Tr0, Ar0, kcrit))\n",
    "                < crit_val\n",
    "            ):\n",
    "                limit_grid[i, j] = 1\n",
    "                limit_grid[i, j] = 1\n",
    "    return limit_grid"
   ]
  },
  {
   "cell_type": "code",
   "execution_count": 9,
   "id": "5677ecdb",
   "metadata": {},
   "outputs": [],
   "source": [
    "crit_val = 0.5\n",
    "k_crit = 5\n",
    "limit_grid = make_constraint_plot(k_crit, crit_val=crit_val)"
   ]
  },
  {
   "cell_type": "code",
   "execution_count": 10,
   "id": "bc83c633",
   "metadata": {},
   "outputs": [
    {
     "data": {
      "image/png": "[encoded data removed]",
      "text/plain": [
       "<Figure size 576x576 with 1 Axes>"
      ]
     },
     "metadata": {
      "needs_background": "light"
     },
     "output_type": "display_data"
    }
   ],
   "source": [
    "plt.figure(figsize=(8, 8))\n",
    "plt.imshow(limit_grid, cmap='coolwarm', extent=[-1, 7, 4, 7], aspect='auto', interpolation='bilinear')\n",
    "plt.xlim(4,7)\n",
    "plt.ylim(4,7)\n",
    "plt.xlabel('$\\log_{10}(A_\\mathrm{rec})$')\n",
    "plt.ylabel('$\\log_{10}(T_\\mathrm{rec})$')\n",
    "plt.title('$P({}) < {}$'.format(k_crit, crit_val))\n",
    "# plt.savefig('Figures/recoupling_constraint.pdf')\n",
    "plt.show()"
   ]
  },
  {
   "cell_type": "code",
   "execution_count": 110,
   "id": "780db327",
   "metadata": {},
   "outputs": [],
   "source": [
    "path = \"observation_data/\"\n",
    "\n",
    "dfPlanckTT = pd.read_csv(path + \"PlanckTT.csv\", skiprows=1)\n",
    "dfPlanckEE = pd.read_csv(path + \"PlanckEE.csv\", skiprows=1)\n",
    "dfPlanckPP = pd.read_csv(path + \"PlanckPP.csv\", skiprows=1)"
   ]
  },
  {
   "cell_type": "code",
   "execution_count": 115,
   "id": "76db5e88",
   "metadata": {},
   "outputs": [],
   "source": [
    "dfPlanckTT = dfPlanckTT.assign(\n",
    "    ylow=dfPlanckTT[\"Y\"] - dfPlanckTT[\"Y.3\"], yhigh=dfPlanckTT[\"Y.4\"] - dfPlanckTT[\"Y\"]\n",
    ")\n",
    "dfPlanckTT = dfPlanckTT.assign(\n",
    "    xlow=dfPlanckTT[\"X\"] - dfPlanckTT[\"X.1\"], xhigh=dfPlanckTT[\"X.2\"] - dfPlanckTT[\"X\"]\n",
    ")\n",
    "yerrTT = np.array([dfPlanckTT[\"ylow\"], dfPlanckTT[\"yhigh\"]])\n",
    "xerrTT = np.array([dfPlanckTT[\"xlow\"], dfPlanckTT[\"xhigh\"]])\n",
    "\n",
    "dfPlanckEE = dfPlanckEE.assign(\n",
    "    ylow=dfPlanckEE[\"Y\"] - dfPlanckEE[\"Y.3\"], yhigh=dfPlanckEE[\"Y.4\"] - dfPlanckEE[\"Y\"]\n",
    ")\n",
    "dfPlanckEE = dfPlanckEE.assign(\n",
    "    xlow=dfPlanckEE[\"X\"] - dfPlanckEE[\"X.1\"], xhigh=dfPlanckEE[\"X.2\"] - dfPlanckEE[\"X\"]\n",
    ")\n",
    "yerrEE = np.array([dfPlanckEE[\"ylow\"], dfPlanckEE[\"yhigh\"]])\n",
    "xerrEE = np.array([dfPlanckEE[\"xlow\"], dfPlanckEE[\"xhigh\"]])\n",
    "\n",
    "dfPlanckPP = dfPlanckPP.assign(\n",
    "    ylow=dfPlanckPP[\"Y\"] - dfPlanckPP[\"Y.3\"], yhigh=dfPlanckPP[\"Y.4\"] - dfPlanckPP[\"Y\"]\n",
    ")\n",
    "dfPlanckPP = dfPlanckPP.assign(\n",
    "    xlow=dfPlanckPP[\"X\"] - dfPlanckPP[\"X.1\"], xhigh=dfPlanckPP[\"X.2\"] - dfPlanckPP[\"X\"]\n",
    ")\n",
    "yerrPP = np.array([dfPlanckPP[\"ylow\"], dfPlanckPP[\"yhigh\"]])\n",
    "xerrPP = np.array([dfPlanckPP[\"xlow\"], dfPlanckPP[\"xhigh\"]])\n"
   ]
  },
  {
   "cell_type": "code",
   "execution_count": 116,
   "id": "df1a6e85",
   "metadata": {},
   "outputs": [
    {
     "data": {
      "image/png": "[encoded data removed]",
      "text/plain": [
       "<Figure size 576x432 with 1 Axes>"
      ]
     },
     "metadata": {
      "needs_background": "light"
     },
     "output_type": "display_data"
    }
   ],
   "source": [
    "plt.errorbar(\n",
    "    dfPlanckTT[\"X\"],\n",
    "    dfPlanckTT[\"Y\"],\n",
    "    yerr=yerrTT,\n",
    "    xerr=xerrTT,\n",
    "    marker=\"o\",\n",
    "    ms=5,\n",
    "    color=\"blue\",\n",
    "    ls=\"none\",\n",
    "    capsize=6,\n",
    "    label=\"Planck TT\",\n",
    ")\n",
    "\n",
    "plt.errorbar(\n",
    "    dfPlanckEE[\"X\"],\n",
    "    dfPlanckEE[\"Y\"],\n",
    "    yerr=yerrEE,\n",
    "    xerr=xerrEE,\n",
    "    marker=\"o\",\n",
    "    ms=5,\n",
    "    color=\"orange\",\n",
    "    ls=\"none\",\n",
    "    capsize=6,\n",
    "    label=\"Planck EE\",\n",
    ")\n",
    "\n",
    "plt.errorbar(\n",
    "    dfPlanckPP[\"X\"],\n",
    "    dfPlanckPP[\"Y\"],\n",
    "    yerr=yerrPP,\n",
    "    xerr=xerrPP,\n",
    "    marker=\"o\",\n",
    "    ms=5,\n",
    "    color=\"green\",\n",
    "    ls=\"none\",\n",
    "    capsize=6,\n",
    "    label=\"Planck $\\phi\\phi$\",\n",
    ")\n",
    "\n",
    "plt.xscale(\"log\")\n",
    "plt.yscale(\"log\")"
   ]
  },
  {
   "cell_type": "code",
   "execution_count": 114,
   "id": "8161bd7c",
   "metadata": {},
   "outputs": [],
   "source": [
    "path = \"observation_data/\"\n",
    "\n",
    "dfDES = pd.read_csv(path + \"DESY1.csv\")\n",
    "dfDES = dfDES.assign(\n",
    "    ylow=dfDES[\"Y\"] - dfDES[\"-DeltaY\"], yhigh=dfDES[\"+DeltaY\"] - dfDES[\"Y\"]\n",
    ")\n",
    "dfDES = dfDES.assign(\n",
    "    xlow=dfDES[\"X\"] - dfDES[\"-DeltaX\"], xhigh=dfDES[\"+DeltaX\"] - dfDES[\"X\"]\n",
    ")\n",
    "yerrDES = np.array([dfDES[\"ylow\"], dfDES[\"yhigh\"]])\n",
    "xerrDES = np.array([dfDES[\"xlow\"], dfDES[\"xhigh\"]])\n",
    "\n",
    "columns = [\"k\", \"P(k)\", \"delta P(k)+\", \"delta P(k)-\"]\n",
    "dfBOSS = pd.read_csv(path + \"BOSS.csv\", header=None)\n",
    "dfBOSS.columns = columns\n",
    "\n",
    "dfBOSS = dfBOSS.assign(\n",
    "    ylow=dfBOSS[\"P(k)\"] - dfBOSS[\"delta P(k)-\"],\n",
    "    yhigh=dfBOSS[\"delta P(k)+\"] - dfBOSS[\"P(k)\"],\n",
    ")\n",
    "yerrBOSS = np.array([dfBOSS[\"ylow\"], dfBOSS[\"yhigh\"]])\n"
   ]
  },
  {
   "cell_type": "code",
   "execution_count": 12,
   "id": "47be3718",
   "metadata": {},
   "outputs": [],
   "source": [
    "#sort all relevant data by ks\n",
    "constraint_ks = np.concatenate((dfBOSS[\"k\"], dfDES[\"X\"]))\n",
    "constraint_pks = np.concatenate((dfBOSS[\"P(k)\"], dfDES[\"Y\"]))\n",
    "constraint_pk_y_errs = np.concatenate((yerrBOSS, yerrDES), axis=1)\n",
    "constraint_ks_sorted = sorted(constraint_ks)\n",
    "constraint_pks_sorted = [x for _, x in sorted(zip(constraint_ks, constraint_pks))]\n",
    "constraint_pk_y_errs_sorted = np.zeros((2, len(constraint_ks)))\n",
    "constraint_pk_y_errs_sorted[0] = [x for _, x in sorted(zip(constraint_ks, constraint_pk_y_errs[0]))]\n",
    "constraint_pk_y_errs_sorted[1] = [x for _, x in sorted(zip(constraint_ks, constraint_pk_y_errs[1]))]\n",
    "constraint_pk_y_var_sorted = constraint_pk_y_errs_sorted[0] + constraint_pk_y_errs_sorted[1]\n",
    "\n",
    "# constraint_ks_sorted = constraint_ks_sorted[14:]\n",
    "# constraint_pks_sorted = constraint_pks_sorted[14:]\n",
    "# constraint_pk_y_var_sorted = constraint_pk_y_var_sorted[14:]"
   ]
  },
  {
   "cell_type": "code",
   "execution_count": 13,
   "id": "80b0832c",
   "metadata": {},
   "outputs": [],
   "source": [
    "Tr1 = T_rec_strong_arr[40]\n",
    "Ar1 = A_rec_strong_arr[99]\n",
    "test_pks = np.zeros(len(constraint_ks_sorted))\n",
    "for i, k in enumerate(constraint_ks_sorted):\n",
    "    # test_pks[i] = pk_strong_interp((Tr1, Ar1, k))\n",
    "    test_pks[i] = pk_strong_interp_late((Tr1, Ar1, k))\n"
   ]
  },
  {
   "cell_type": "code",
   "execution_count": 14,
   "id": "2da09eb2",
   "metadata": {},
   "outputs": [
    {
     "data": {
      "image/png": "[encoded data removed]",
      "text/plain": [
       "<Figure size 576x576 with 2 Axes>"
      ]
     },
     "metadata": {
      "needs_background": "light"
     },
     "output_type": "display_data"
    }
   ],
   "source": [
    "plot_varied_recoupling_strong(Tr0, Ar0, Tr1, Ar1, save=False)\n"
   ]
  },
  {
   "cell_type": "code",
   "execution_count": 15,
   "id": "19526607",
   "metadata": {},
   "outputs": [
    {
     "data": {
      "image/png": "[encoded data removed]",
      "text/plain": [
       "<Figure size 576x432 with 1 Axes>"
      ]
     },
     "metadata": {
      "needs_background": "light"
     },
     "output_type": "display_data"
    }
   ],
   "source": [
    "plt.loglog(constraint_ks_sorted, constraint_pks_sorted, 'o')\n",
    "plt.loglog(constraint_ks_sorted, test_pks)\n",
    "plt.show()"
   ]
  },
  {
   "cell_type": "code",
   "execution_count": 16,
   "id": "07158c29",
   "metadata": {},
   "outputs": [
    {
     "name": "stdout",
     "output_type": "stream",
     "text": [
      "7.451091997970763\n"
     ]
    }
   ],
   "source": [
    "chi2 = np.sum((constraint_pks_sorted - test_pks)**2 / constraint_pk_y_var_sorted**2)\n",
    "print(chi2)"
   ]
  },
  {
   "cell_type": "code",
   "execution_count": 17,
   "id": "e02e4bdf",
   "metadata": {},
   "outputs": [],
   "source": [
    "def make_constraint_chisquare():\n",
    "    chi2_grid = np.zeros((N_points, N_points))\n",
    "\n",
    "    for i, Tr in enumerate(T_rec_arr):\n",
    "        for j, Ar in enumerate(A_rec_strong_arr):\n",
    "            # test_pks = np.array([pk_strong_interp((Tr, Ar, k)) for k in constraint_ks_sorted])\n",
    "            test_pks = np.array([pk_strong_interp_late((Tr, Ar, k)) for k in constraint_ks_sorted])\n",
    "\n",
    "            chi2 = np.sum((constraint_pks_sorted - test_pks)**2 / constraint_pk_y_var_sorted**2)\n",
    "            chi2_grid[i, j] = chi2\n",
    "    return chi2_grid\n",
    "\n",
    "def make_constraint_grid_chisquare(chi2_grid, crit_val = 36.42):\n",
    "    #crit_val = 36.42 #for 24 points\n",
    "    limit_grid = np.zeros((N_points, N_points))\n",
    "    for i in range(N_points):\n",
    "        for j in range(N_points):\n",
    "            if chi2_grid[i, j] > crit_val:\n",
    "                limit_grid[i, j] = 1\n",
    "    return limit_grid\n"
   ]
  },
  {
   "cell_type": "code",
   "execution_count": 18,
   "id": "2272903b",
   "metadata": {},
   "outputs": [],
   "source": [
    "chi2_grid = make_constraint_chisquare()"
   ]
  },
  {
   "cell_type": "code",
   "execution_count": 27,
   "id": "7a840870",
   "metadata": {},
   "outputs": [],
   "source": [
    "limit_grid_chi2 = make_constraint_grid_chisquare(chi2_grid, crit_val = 5)\n",
    "#! This critical chi2 value is artificially low. Otherwise, don't get any limits"
   ]
  },
  {
   "cell_type": "code",
   "execution_count": 28,
   "id": "e2cdb006",
   "metadata": {},
   "outputs": [
    {
     "data": {
      "image/png": "[encoded data removed]",
      "text/plain": [
       "<Figure size 576x432 with 1 Axes>"
      ]
     },
     "metadata": {
      "needs_background": "light"
     },
     "output_type": "display_data"
    }
   ],
   "source": [
    "plt.imshow(limit_grid_chi2, cmap='coolwarm', extent=[-1, 7, 4, 7], aspect='auto', interpolation='nearest')\n",
    "plt.ylim(5.5,7)\n",
    "plt.show()"
   ]
  },
  {
   "cell_type": "code",
   "execution_count": 29,
   "id": "e91bc5f7",
   "metadata": {},
   "outputs": [
    {
     "data": {
      "image/png": "[encoded data removed]",
      "text/plain": [
       "<Figure size 576x432 with 1 Axes>"
      ]
     },
     "metadata": {
      "needs_background": "light"
     },
     "output_type": "display_data"
    }
   ],
   "source": [
    "plt.imshow(chi2_grid, cmap='coolwarm', extent=[-1, 7, 4, 7], aspect='auto', interpolation='nearest', norm=LogNorm(vmin=np.min(chi2_grid), vmax=np.max(chi2_grid)))\n",
    "plt.show()"
   ]
  },
  {
   "cell_type": "code",
   "execution_count": 30,
   "id": "f88e3114",
   "metadata": {},
   "outputs": [
    {
     "data": {
      "image/png": "[encoded data removed]",
      "text/plain": [
       "<Figure size 576x432 with 1 Axes>"
      ]
     },
     "metadata": {
      "needs_background": "light"
     },
     "output_type": "display_data"
    }
   ],
   "source": [
    "plt.errorbar(\n",
    "    dfBOSS[\"k\"],\n",
    "    dfBOSS[\"P(k)\"],\n",
    "    yerr=yerrBOSS,\n",
    "    marker=\"o\",\n",
    "    ms=5,\n",
    "    color=\"mediumpurple\",\n",
    "    ls=\"none\",\n",
    "    label=r\"BOSS DR9 Ly-$\\alpha$ forest\",\n",
    ")\n",
    "plt.errorbar(\n",
    "    dfDES[\"X\"],\n",
    "    dfDES[\"Y\"],\n",
    "    yerr=yerrDES,\n",
    "    xerr=xerrDES,\n",
    "    marker=\"o\",\n",
    "    ms=5,\n",
    "    color=\"goldenrod\",\n",
    "    ls=\"none\",\n",
    "    capsize=6,\n",
    "    label=\"DES Y1 cosmic Shear\",\n",
    ")\n",
    "\n",
    "# plt.plot(constraint_ks_sorted, constraint_pks_sorted, color=\"black\", label=\"Constraint\")\n",
    "# plt.errorbar(constraint_ks_sorted, constraint_pks_sorted, yerr=constraint_pk_y_errs_sorted, color=\"black\", ls=\"none\", alpha=0.5)\n",
    "\n",
    "plt.xscale(\"log\")\n",
    "plt.yscale(\"log\")"
   ]
  },
  {
   "cell_type": "code",
   "execution_count": null,
   "id": "be639a1d",
   "metadata": {},
   "outputs": [],
   "source": []
  }
 ],
 "metadata": {
  "interpreter": {
   "hash": "1d93644de78784b52e1665efed99a57bcdf9c9cb0f07cf200ed55be113c20bd8"
  },
  "kernelspec": {
   "display_name": "kineticclass",
   "language": "python",
   "name": "python3"
  },
  "language_info": {
   "codemirror_mode": {
    "name": "ipython",
    "version": 3
   },
   "file_extension": ".py",
   "mimetype": "text/x-python",
   "name": "python",
   "nbconvert_exporter": "python",
   "pygments_lexer": "ipython3",
   "version": "3.9.7"
  }
 },
 "nbformat": 4,
 "nbformat_minor": 5
}
