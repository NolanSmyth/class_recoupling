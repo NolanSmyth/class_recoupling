{
 "cells": [
  {
   "cell_type": "markdown",
   "id": "83c50701",
   "metadata": {},
   "source": [
    "## Imports"
   ]
  },
  {
   "cell_type": "code",
   "execution_count": 270,
   "id": "62c9b18a",
   "metadata": {},
   "outputs": [
    {
     "name": "stdout",
     "output_type": "stream",
     "text": [
      "The autoreload extension is already loaded. To reload it, use:\n",
      "  %reload_ext autoreload\n"
     ]
    }
   ],
   "source": [
    "import matplotlib.pyplot as plt\n",
    "from matplotlib.colors import LogNorm\n",
    "\n",
    "import numpy as np\n",
    "from scipy.interpolate import UnivariateSpline\n",
    "import h5py\n",
    "from scipy.integrate import quadrature\n",
    "import pickle\n",
    "import pandas as pd\n",
    "from scipy.stats import chi2\n",
    "\n",
    "from plots import scientific_format, dmu_idm_dr, plot_observations, plot_varied_recoupling\n",
    "from data_generation.variables import *\n",
    "from scipy.signal import argrelextrema\n",
    "from scipy.stats import chisquare\n",
    "\n",
    "import warnings\n",
    "\n",
    "warnings.filterwarnings('ignore')\n",
    "%load_ext autoreload\n",
    "%autoreload 2\n"
   ]
  },
  {
   "cell_type": "code",
   "execution_count": 35,
   "id": "dd4ceafb",
   "metadata": {},
   "outputs": [],
   "source": [
    "# h5pydir = '/Users/nolansmyth/Dropbox/kinetic_recoupling/h5py_dat/'\n",
    "h5pydir = 'h5py_dat/'\n",
    "\n",
    "# h5pydir = '<YOUR PATH HERE>Dropbox/kinetic_recoupling/h5py_dat/'"
   ]
  },
  {
   "cell_type": "code",
   "execution_count": 36,
   "id": "e97907ed",
   "metadata": {},
   "outputs": [],
   "source": [
    "plt.style.use(\"/Users/nolansmyth/Dropbox/kinetic_recoupling/figures/style.mplstyle\")\n",
    "# plt.style.use(\"<YOUR PATH HERE>Dropbox/kinetic_recoupling/figures/style.mplstyle\")"
   ]
  },
  {
   "cell_type": "code",
   "execution_count": 395,
   "id": "40af8efd",
   "metadata": {},
   "outputs": [],
   "source": [
    "# pk_delta_interp = pickle.load(open(\"interps/pks_delta_interp.p\", \"rb\"))\n",
    "pk_delta_interp = pickle.load(open(\"interps/pks_delta_interp_new.p\", \"rb\"))\n"
   ]
  },
  {
   "cell_type": "code",
   "execution_count": 396,
   "id": "fab20b7a",
   "metadata": {},
   "outputs": [],
   "source": [
    "#Get data for case with no recoupling\n",
    "k = '1.0'\n",
    "data_file=h5pydir+'class_testing_no_rec.hdf5'\n",
    "with h5py.File(data_file, 'r') as f:\n",
    "    tau_data = np.array(f['scalar']['k='+str(k)]['tau [Mpc]'])\n",
    "    delta_chi_data = np.array(f['scalar']['k='+str(k)]['delta_idm_dr'])\n",
    "    phi_data = np.array(f['scalar']['k='+str(k)]['phi'])\n",
    "    theta_dr_data = np.array(f['scalar']['k='+str(k)]['theta_idr'])\n",
    "    theta_data = np.array(f['scalar']['k='+str(k)]['theta_idm_dr'])\n",
    "    \n",
    "    \n",
    "    delta_chi_no_rec = UnivariateSpline(tau_data, delta_chi_data, **spline_pars)\n",
    "    delta_chi_dot_no_rec = delta_chi_no_rec.derivative()\n",
    "    phi_no_rec = UnivariateSpline(tau_data, phi_data, **spline_pars)\n",
    "    phi_dot_no_rec = phi_no_rec.derivative()\n",
    "    theta_dr_no_rec = UnivariateSpline(tau_data, theta_dr_data, **spline_pars)\n",
    "\n",
    "    theta_chi_no_rec = UnivariateSpline(tau_data, theta_data, **spline_pars)\n",
    "    theta_chi_dot_no_rec = theta_chi_no_rec.derivative()\n",
    "\n",
    "    Pks_no_rec = np.array(f['power_spectrum']['Pk'])\n",
    "    kks_no_rec = np.array(f['power_spectrum']['kk'])\n",
    "\n",
    "    kappa_dot_data_no_rec = np.flip(np.array(f['thermodynamics']['dmu_idm_dr']))\n",
    "    z_data_no_rec = np.flip(np.array(f['thermodynamics']['z']))\n",
    "    thermo_tau_data_no_rec = np.flip(np.array(f['thermodynamics']['conf. time [Mpc]']))\n",
    "\n",
    "    rho_idr_no_rec = np.array(f['background']['(.)rho_idr'])\n",
    "    rho_idm_no_rec = np.array(f['background']['(.)rho_idm_dr'])\n",
    "    bkg_zs_no_rec = np.array(f['background']['z'])\n",
    "    clTT_no_rec = np.array(f['cmb']['tt'])\n",
    "    ll_no_rec = np.array(f['cmb']['ell'])\n",
    "\n",
    "    thermo_taus_no_rec = UnivariateSpline(np.flip(z_data_no_rec), np.flip(thermo_tau_data_no_rec), **spline_pars)"
   ]
  },
  {
   "cell_type": "code",
   "execution_count": null,
   "id": "9b0e3d7c",
   "metadata": {},
   "outputs": [],
   "source": []
  },
  {
   "cell_type": "code",
   "execution_count": 397,
   "id": "37810579",
   "metadata": {},
   "outputs": [],
   "source": [
    "# A_recs = [1e12, 10 ** (13.5), 1e15, 10 ** (16.5), 1e18]\n",
    "# T_recs = [6e6, 6e5 * np.sqrt(10), 6e5, 6e4 * np.sqrt(10), 6e4]\n",
    "# A_recs = A_recs[::-1]\n",
    "# T_recs = T_recs[::-1]\n",
    "# BM_KS = [str(round(n, 3)) for n in np.geomspace(0.1, 10, 100)]\n",
    "\n",
    "N_points = 100  # Number of grid points in each dimension\n",
    "# A_rec_arr = np.logspace(12, 21, N_points)\n",
    "A_rec_arr = np.logspace(12, 12, N_points)\n",
    "T_rec_arr = np.logspace(np.log10(6e6), np.log10(6e3), N_points)\n",
    "# T_rec_arr = np.flip(T_rec_arr)\n",
    "\n",
    "T_rec_arr = T_rec_arr[:-1]\n",
    "A_rec_arr = A_rec_arr[1:]"
   ]
  },
  {
   "cell_type": "code",
   "execution_count": 521,
   "id": "3609485c",
   "metadata": {},
   "outputs": [
    {
     "data": {
      "image/png": "[encoded data removed]",
      "text/plain": [
       "<Figure size 576x432 with 1 Axes>"
      ]
     },
     "metadata": {
      "needs_background": "light"
     },
     "output_type": "display_data"
    }
   ],
   "source": [
    "T_rec = T_rec_arr[73]\n",
    "\n",
    "lines = [\"-\",\"--\",\"-.\",\":\"]\n",
    "plt.plot(kk, pk_delta_interp((T_rec,kk))/Pks_no_rec,  ls = lines[i%len(lines)], label='T_rec = ' + scientific_format(T_rec))\n",
    "\n",
    "plt.plot(kk,Pks_no_rec/Pks_no_rec, '--', label='No Rec')\n",
    "plt.yscale('log')\n",
    "plt.xscale('log')\n",
    "plt.xlabel('k')\n",
    "plt.ylabel('$P(k)/P(k)_0$')\n",
    "plt.title('Matter Power Spectrum Ratio')\n",
    "plt.xlim(5e-1,1e2)\n",
    "plt.legend()\n",
    "plt.show()"
   ]
  },
  {
   "cell_type": "code",
   "execution_count": 400,
   "id": "673e2caf",
   "metadata": {},
   "outputs": [],
   "source": [
    "def my_dmu_idm_dr(z, A_rec, a_idm_dr = 1, Omega0_idm_dr = 0.12038, T_rec = 6.0e5, xi_idr = 0.3, sigma_fac = 0.001):\n",
    "\n",
    "    sigma = sigma_fac*T_rec\n",
    "    # base_rate = a_idm_dr * ((1+z)/(1e7))**4 * Omega0_idm_dr \n",
    "    base_rate = a_idm_dr * ((1+z)/(1e7))**1 * Omega0_idm_dr \n",
    "\n",
    "    T_idr = (xi_idr * 2.73) * (1+z)\n",
    "    delta = T_idr - T_rec\n",
    "    delta = delta/sigma\n",
    "    gauss = np.exp(-pow(delta,2)/2)/np.sqrt(2*np.pi)\n",
    "\n",
    "    return base_rate * (1 + A_rec / sigma * gauss)"
   ]
  },
  {
   "cell_type": "code",
   "execution_count": 579,
   "id": "aa5d7ef0",
   "metadata": {},
   "outputs": [
    {
     "data": {
      "image/png": "[encoded data removed]",
      "text/plain": [
       "<Figure size 576x432 with 1 Axes>"
      ]
     },
     "metadata": {
      "needs_background": "light"
     },
     "output_type": "display_data"
    }
   ],
   "source": [
    "z_data = np.geomspace(1e-3,1e8,int(1e5))\n",
    "\n",
    "# A_recs = [1e12, 10**(13.5), 1e15, 10**(16.5), 1e18]\n",
    "# T_recs = [6e6, 6e5*np.sqrt(10), 6e5, 6e4*np.sqrt(10), 6e4]\n",
    "\n",
    "A_recs = np.logspace(12, 12, 5)\n",
    "T_recs = np.logspace(np.log10(6e6), np.log10(6e1), 5)\n",
    "\n",
    "for i, T_rec in enumerate(T_recs):\n",
    "    plt.plot(z_data, my_dmu_idm_dr(z_data, A_recs[i], a_idm_dr = 1e-3, T_rec=T_recs[i], sigma_fac=0.02), '.', label='T_rec = {} eV'.format(scientific_format(ktoev*T_recs[i])))\n",
    "\n",
    "plt.plot([1e-3,1e10], [1,1], 'k--')\n",
    "plt.plot([1e-3,1e10], [1e-3,1e-3], 'k:')\n",
    "plt.plot([1e-3,1e10], [1e3,1e3], 'k:')\n",
    "\n",
    "plt.xlim(6e1,9e7)\n",
    "plt.ylim(1e-12,1e9)\n",
    "plt.xscale('log')\n",
    "plt.yscale('log')\n",
    "plt.xlabel('z', fontsize=16)\n",
    "plt.ylabel('$\\Gamma_{\\mathrm{DR-DM}}$', fontsize=16)\n",
    "plt.title('Comoving Scattering Rate')\n",
    "plt.legend()\n",
    "plt.show()"
   ]
  },
  {
   "cell_type": "code",
   "execution_count": 523,
   "id": "3a5b2600",
   "metadata": {},
   "outputs": [],
   "source": [
    "def plot_delta_recoupling(i):\n",
    "    \"\"\"\n",
    "    Plot the rate and power spectrum for a given delta recoupling.\n",
    "    \"\"\"\n",
    "    \n",
    "    fig = plt.figure(1, figsize=(8, 8))\n",
    "    plt.subplot(211)\n",
    "    T_rec = T_rec_arr[i]\n",
    "    print(T_rec)\n",
    "    pks_delta = pk_delta_interp((T_rec,kk))\n",
    "    plt.plot(kk, pks_delta/Pks_no_rec,  ls = lines[i%len(lines)], label='T_rec = ' + scientific_format(T_rec))\n",
    "    \n",
    "    plt.xscale(\"log\")\n",
    "    plt.yscale(\"log\")\n",
    "    plt.xlim(1e-1, 3e1)\n",
    "    # plt.ylim(0.97, 1)\n",
    "    plt.xlabel(\"k [h/Mpc]\")\n",
    "    plt.ylabel(\"$P(k)/P(k)_0$\")\n",
    "    plt.legend()\n",
    "    plt.title(\"Double Decoupling\")\n",
    "\n",
    "    plt.subplot(212)\n",
    "    plt.xscale(\"log\")\n",
    "    plt.yscale(\"log\")\n",
    "    plt.xlabel(\"z\")\n",
    "    plt.ylabel(\"$\\Gamma_{\\mathrm{DR-DM}}$\")\n",
    "\n",
    "    zs = np.geomspace(1e-3,1e8,int(1e5))\n",
    "    \n",
    "    dmus = my_dmu_idm_dr(zs, np.flip(A_rec_arr)[i], a_idm_dr = 1e-3, T_rec=T_rec_arr[i], sigma_fac=0.01)\n",
    "    plt.plot(\n",
    "        zs,\n",
    "        dmus,\n",
    "        \"b\",\n",
    "        label='T_rec = ' + scientific_format(T_rec))\n",
    "    \n",
    "    plt.plot([zs[-1],zs[0]], 1e-3 * np.ones(2), \"--k\")\n",
    "    plt.plot([zs[-1],zs[0]], np.ones(2), \"--k\")\n",
    "\n",
    "    plt.xlim(1e3, 1e8)\n",
    "    plt.ylim(1e-10, 1e7)\n",
    "\n",
    "    plt.legend()\n",
    "    fig.tight_layout(h_pad=2)\n",
    "\n",
    "    plt.show()\n"
   ]
  },
  {
   "cell_type": "code",
   "execution_count": 524,
   "id": "8161bd7c",
   "metadata": {},
   "outputs": [],
   "source": [
    "path = \"observation_data/\"\n",
    "\n",
    "####DES####\n",
    "dfDES = pd.read_csv(path + \"DESY1.csv\")\n",
    "dfDES = dfDES.assign(\n",
    "    ylow=dfDES[\"Y\"] - dfDES[\"-DeltaY\"], yhigh=dfDES[\"+DeltaY\"] - dfDES[\"Y\"]\n",
    ")\n",
    "dfDES = dfDES.assign(\n",
    "    xlow=dfDES[\"X\"] - dfDES[\"-DeltaX\"], xhigh=dfDES[\"+DeltaX\"] - dfDES[\"X\"]\n",
    ")\n",
    "yerrDES = np.array([dfDES[\"ylow\"], dfDES[\"yhigh\"]])\n",
    "xerrDES = np.array([dfDES[\"xlow\"], dfDES[\"xhigh\"]])\n",
    "\n",
    "####BOSS####\n",
    "columns = [\"k\", \"P(k)\", \"delta P(k)+\", \"delta P(k)-\"]\n",
    "dfBOSS = pd.read_csv(path + \"BOSS.csv\", header=None)\n",
    "dfBOSS.columns = columns\n",
    "\n",
    "dfBOSS = dfBOSS.assign(\n",
    "    ylow=dfBOSS[\"P(k)\"] - dfBOSS[\"delta P(k)-\"],\n",
    "    yhigh=dfBOSS[\"delta P(k)+\"] - dfBOSS[\"P(k)\"],\n",
    ")\n",
    "yerrBOSS = np.array([dfBOSS[\"ylow\"], dfBOSS[\"yhigh\"]])\n",
    "\n",
    "\n",
    "####PLANCK####\n",
    "dfPlanckTT = pd.read_csv(path + \"PlanckTT.csv\", skiprows=1)\n",
    "dfPlanckEE = pd.read_csv(path + \"PlanckEE.csv\", skiprows=1)\n",
    "dfPlanckPP = pd.read_csv(path + \"PlanckPP.csv\", skiprows=1)\n",
    "\n",
    "dfPlanckTT = dfPlanckTT.assign(\n",
    "    ylow=dfPlanckTT[\"Y\"] - dfPlanckTT[\"Y.3\"], yhigh=dfPlanckTT[\"Y.4\"] - dfPlanckTT[\"Y\"]\n",
    ")\n",
    "dfPlanckTT = dfPlanckTT.assign(\n",
    "    xlow=dfPlanckTT[\"X\"] - dfPlanckTT[\"X.1\"], xhigh=dfPlanckTT[\"X.2\"] - dfPlanckTT[\"X\"]\n",
    ")\n",
    "yerrTT = np.array([dfPlanckTT[\"ylow\"], dfPlanckTT[\"yhigh\"]])\n",
    "xerrTT = np.array([dfPlanckTT[\"xlow\"], dfPlanckTT[\"xhigh\"]])\n",
    "\n",
    "dfPlanckEE = dfPlanckEE.assign(\n",
    "    ylow=dfPlanckEE[\"Y\"] - dfPlanckEE[\"Y.3\"], yhigh=dfPlanckEE[\"Y.4\"] - dfPlanckEE[\"Y\"]\n",
    ")\n",
    "dfPlanckEE = dfPlanckEE.assign(\n",
    "    xlow=dfPlanckEE[\"X\"] - dfPlanckEE[\"X.1\"], xhigh=dfPlanckEE[\"X.2\"] - dfPlanckEE[\"X\"]\n",
    ")\n",
    "yerrEE = np.array([dfPlanckEE[\"ylow\"], dfPlanckEE[\"yhigh\"]])\n",
    "xerrEE = np.array([dfPlanckEE[\"xlow\"], dfPlanckEE[\"xhigh\"]])\n",
    "\n",
    "dfPlanckPP = dfPlanckPP.assign(\n",
    "    ylow=dfPlanckPP[\"Y\"] - dfPlanckPP[\"Y.3\"], yhigh=dfPlanckPP[\"Y.4\"] - dfPlanckPP[\"Y\"]\n",
    ")\n",
    "dfPlanckPP = dfPlanckPP.assign(\n",
    "    xlow=dfPlanckPP[\"X\"] - dfPlanckPP[\"X.1\"], xhigh=dfPlanckPP[\"X.2\"] - dfPlanckPP[\"X\"]\n",
    ")\n",
    "yerrPP = np.array([dfPlanckPP[\"ylow\"], dfPlanckPP[\"yhigh\"]])\n",
    "xerrPP = np.array([dfPlanckPP[\"xlow\"], dfPlanckPP[\"xhigh\"]])\n"
   ]
  },
  {
   "cell_type": "code",
   "execution_count": 571,
   "id": "47be3718",
   "metadata": {},
   "outputs": [],
   "source": [
    "#sort all relevant data by ks\n",
    "# constraint_ks = np.concatenate((dfBOSS[\"k\"], dfDES[\"X\"], dfPlanckTT[\"X\"], dfPlanckEE[\"X\"], dfPlanckPP[\"X\"]))\n",
    "# constraint_pks = np.concatenate((dfBOSS[\"P(k)\"], dfDES[\"Y\"], dfPlanckTT[\"Y\"], dfPlanckEE[\"Y\"], dfPlanckPP[\"Y\"]))\n",
    "# constraint_pk_y_errs = np.concatenate((yerrBOSS, yerrDES, yerrTT, yerrEE, yerrPP), axis=1)\n",
    "# constraint_pk_x_errs = np.concatenate(( xerrDES, xerrTT, xerrEE, xerrPP), axis=1)\n",
    "\n",
    "constraint_ks = np.concatenate((dfDES[\"X\"], dfPlanckTT[\"X\"], dfPlanckEE[\"X\"], dfPlanckPP[\"X\"]))\n",
    "constraint_pks = np.concatenate((dfDES[\"Y\"], dfPlanckTT[\"Y\"], dfPlanckEE[\"Y\"], dfPlanckPP[\"Y\"]))\n",
    "constraint_pk_y_errs = np.concatenate((yerrDES, yerrTT, yerrEE, yerrPP), axis=1)\n",
    "constraint_pk_x_errs = np.concatenate(( xerrDES, xerrTT, xerrEE, xerrPP), axis=1)\n",
    "\n",
    "# constraint_ks = dfDES[\"X\"]\n",
    "# constraint_pks = dfDES[\"Y\"]\n",
    "# constraint_pk_y_errs = yerrDES\n",
    "# constraint_pk_x_errs = xerrDES\n",
    "\n",
    "constraint_ks_sorted = sorted(constraint_ks)\n",
    "constraint_pks_sorted = [x for _, x in sorted(zip(constraint_ks, constraint_pks))]\n",
    "\n",
    "constraint_pk_y_errs_sorted = np.zeros((2, len(constraint_ks)))\n",
    "constraint_pk_y_errs_sorted[0] = [x for _, x in sorted(zip(constraint_ks, constraint_pk_y_errs[0]))]\n",
    "constraint_pk_y_errs_sorted[1] = [x for _, x in sorted(zip(constraint_ks, constraint_pk_y_errs[1]))]\n",
    "constraint_pk_y_var_sorted = np.zeros((2, len(constraint_ks)))\n",
    "constraint_pk_y_var_sorted[0] = constraint_pk_y_errs_sorted[0]\n",
    "constraint_pk_y_var_sorted[1] = constraint_pk_y_errs_sorted[1]\n",
    "\n",
    "constraint_pk_x_errs_sorted = np.zeros((2, len(constraint_ks)))\n",
    "constraint_pk_x_errs_sorted[0] = [x for _, x in sorted(zip(constraint_ks, constraint_pk_x_errs[0]))]\n",
    "constraint_pk_x_errs_sorted[1] = [x for _, x in sorted(zip(constraint_ks, constraint_pk_x_errs[1]))]\n",
    "constraint_pk_x_var_sorted = np.zeros((2, len(constraint_ks)))\n",
    "constraint_pk_x_var_sorted[0] = constraint_pk_x_errs_sorted[0]\n",
    "constraint_pk_x_var_sorted[1] = constraint_pk_x_errs_sorted[1]\n"
   ]
  },
  {
   "cell_type": "code",
   "execution_count": 572,
   "id": "80b0832c",
   "metadata": {},
   "outputs": [],
   "source": [
    "test_pks = np.zeros(len(constraint_ks_sorted))\n",
    "for i, k in enumerate(constraint_ks_sorted):\n",
    "    test_pks[i] = pk_delta_interp((T_rec_arr[98],k))"
   ]
  },
  {
   "cell_type": "code",
   "execution_count": 573,
   "id": "4f5a60fe",
   "metadata": {},
   "outputs": [
    {
     "name": "stdout",
     "output_type": "stream",
     "text": [
      "86.4768644683385\n",
      "0.00013796963080769942\n",
      "Model does not fit data\n"
     ]
    }
   ],
   "source": [
    "logy = np.log10(constraint_pks_sorted)\n",
    "logytest = np.log10(test_pks)\n",
    "logx = np.log10(constraint_ks_sorted)\n",
    "logxerr = np.log10(constraint_pk_x_var_sorted)\n",
    "logyerr = np.log10(constraint_pk_y_var_sorted)\n",
    "\n",
    "chi2_stat = np.sum((logy - logytest)**2 / logyerr**2 + ((logx - np.mean(logx)) / np.mean(logxerr))**2)\n",
    "p_value = 1.0 - chi2.cdf(chi2_stat, len(constraint_ks_sorted))\n",
    "\n",
    "print(chi2_stat)\n",
    "print(p_value)\n",
    "if p_value < 0.05:\n",
    "    print(\"Model does not fit data\")\n",
    "else:\n",
    "    print(\"Model fits data\")\n"
   ]
  },
  {
   "cell_type": "code",
   "execution_count": 574,
   "id": "e02e4bdf",
   "metadata": {},
   "outputs": [],
   "source": [
    "def make_constraint_chisquare():\n",
    "    chi2_grid = []\n",
    "    chi2_Ts = []\n",
    "\n",
    "    for i, Tr in enumerate(T_rec_arr):\n",
    "        test_pks = np.array([pk_delta_interp((Tr,k)) for k in constraint_ks_sorted])\n",
    "        test_pks = np.log10(test_pks)\n",
    "        # chi2 = np.sum((constraint_pks_sorted - test_pks)**2 / constraint_pk_y_var_sorted**2)\n",
    "        chi2 = np.sum((logy - test_pks)**2 / logyerr**2 + ((logx - np.mean(logx)) / np.mean(logxerr))**2)\n",
    "\n",
    "        chi2_grid.append(chi2)\n",
    "        chi2_Ts.append(Tr)\n",
    "    return np.array(chi2_grid), np.array(chi2_Ts)\n",
    "\n",
    "\n",
    "def make_constraint_grid_chisquare(chi2_grid):\n",
    "    #crit_val = 36.42 #for 24 points\n",
    "    crit_val = chi2.isf(0.05, len(constraint_ks_sorted))\n",
    "    limit_grid = np.zeros(len(chi2_grid))\n",
    "    for i in range(len(limit_grid)):\n",
    "        if chi2_grid[i] > crit_val:\n",
    "            limit_grid[i] = 1\n",
    "    return limit_grid\n"
   ]
  },
  {
   "cell_type": "code",
   "execution_count": 575,
   "id": "2272903b",
   "metadata": {},
   "outputs": [],
   "source": [
    "chi2_grid,chi2_Ts = make_constraint_chisquare()"
   ]
  },
  {
   "cell_type": "code",
   "execution_count": 576,
   "id": "7a840870",
   "metadata": {},
   "outputs": [],
   "source": [
    "limit_grid_chi2 = make_constraint_grid_chisquare(chi2_grid)"
   ]
  },
  {
   "cell_type": "code",
   "execution_count": 578,
   "id": "dc6423f2",
   "metadata": {},
   "outputs": [
    {
     "name": "stdout",
     "output_type": "stream",
     "text": [
      "Critical temperature is Log10(T) = 4.57\n",
      "Peak recoupling strength = 293.24961738819246\n"
     ]
    }
   ],
   "source": [
    "crit_idx = np.max(np.where(limit_grid_chi2==0))\n",
    "print(\"Critical temperature is Log10(T) = {}\".format(round(np.log10(T_rec_arr[crit_idx]),2)))\n",
    "# dmus = my_dmu_idm_dr(z_data, A_recs[i], a_idm_dr = 1e-3, T_rec=T_recs[i], sigma_fac=0.02)\n",
    "dmus = my_dmu_idm_dr(z_data, A_recs[0], a_idm_dr = 1e-3, T_rec=T_recs[0], sigma_fac=0.02)\n",
    "\n",
    "print(\"Peak recoupling strength = {}\".format(dmus[argrelextrema(dmus, np.greater)[0][0]]))\n"
   ]
  },
  {
   "cell_type": "code",
   "execution_count": 545,
   "id": "75ed9b3f",
   "metadata": {},
   "outputs": [
    {
     "data": {
      "image/png": "[encoded data removed]",
      "text/plain": [
       "<Figure size 576x432 with 1 Axes>"
      ]
     },
     "metadata": {
      "needs_background": "light"
     },
     "output_type": "display_data"
    }
   ],
   "source": [
    "plt.loglog(chi2_Ts, chi2_grid)\n",
    "plt.hlines(chi2.isf(0.05, len(constraint_ks_sorted)), 1e4, 1e6, 'k', '--')\n",
    "plt.vlines(T_rec_arr[crit_idx], 5e-1, 1e3, 'k', '--')\n",
    "plt.xlim(2e4, 7e5)\n",
    "plt.ylim(5e0, 4e2)\n",
    "plt.xlabel(\"T_rec\")\n",
    "plt.ylabel(r\"$\\chi^2$\")\n",
    "plt.show()"
   ]
  },
  {
   "cell_type": "code",
   "execution_count": 561,
   "id": "e61a4720",
   "metadata": {},
   "outputs": [
    {
     "data": {
      "image/png": "[encoded data removed]",
      "text/plain": [
       "<Figure size 576x432 with 1 Axes>"
      ]
     },
     "metadata": {
      "needs_background": "light"
     },
     "output_type": "display_data"
    }
   ],
   "source": [
    "# plt.errorbar(\n",
    "#     dfBOSS[\"k\"],\n",
    "#     dfBOSS[\"P(k)\"],\n",
    "#     yerr=yerrBOSS,\n",
    "#     marker=\"o\",\n",
    "#     ms=5,\n",
    "#     color=\"mediumpurple\",\n",
    "#     ls=\"none\",\n",
    "#     label=r\"BOSS DR9 Ly-$\\alpha$ forest\",\n",
    "# )\n",
    "plt.errorbar(\n",
    "    dfDES[\"X\"],\n",
    "    dfDES[\"Y\"],\n",
    "    yerr=yerrDES,\n",
    "    xerr=xerrDES,\n",
    "    marker=\"o\",\n",
    "    ms=5,\n",
    "    color=\"goldenrod\",\n",
    "    ls=\"none\",\n",
    "    capsize=6,\n",
    "    label=\"DES Y1 cosmic Shear\",\n",
    ")\n",
    "\n",
    "plt.errorbar(\n",
    "    dfPlanckTT[\"X\"],\n",
    "    dfPlanckTT[\"Y\"],\n",
    "    yerr=yerrTT,\n",
    "    xerr=xerrTT,\n",
    "    marker=\"o\",\n",
    "    ms=5,\n",
    "    color=\"blue\",\n",
    "    ls=\"none\",\n",
    "    capsize=6,\n",
    "    label=\"Planck TT\",\n",
    ")\n",
    "\n",
    "plt.errorbar(\n",
    "    dfPlanckEE[\"X\"],\n",
    "    dfPlanckEE[\"Y\"],\n",
    "    yerr=yerrEE,\n",
    "    xerr=xerrEE,\n",
    "    marker=\"o\",\n",
    "    ms=5,\n",
    "    color=\"orange\",\n",
    "    ls=\"none\",\n",
    "    capsize=6,\n",
    "    label=\"Planck EE\",\n",
    ")\n",
    "\n",
    "plt.errorbar(\n",
    "    dfPlanckPP[\"X\"],\n",
    "    dfPlanckPP[\"Y\"],\n",
    "    yerr=yerrPP,\n",
    "    xerr=xerrPP,\n",
    "    marker=\"o\",\n",
    "    ms=5,\n",
    "    color=\"green\",\n",
    "    ls=\"none\",\n",
    "    capsize=6,\n",
    "    label=\"Planck $\\phi\\phi$\",\n",
    ")\n",
    "\n",
    "plt.plot(constraint_ks_sorted, test_pks, color=\"red\", label=\"Recoupling\")\n",
    "\n",
    "plt.xscale(\"log\")\n",
    "plt.yscale(\"log\")\n",
    "plt.legend()\n",
    "\n",
    "# plt.xlim(1e-2, 1e-1)\n",
    "# plt.ylim(1e3, 5e4)\n",
    "\n",
    "plt.show()"
   ]
  },
  {
   "cell_type": "code",
   "execution_count": 534,
   "id": "3622d561",
   "metadata": {},
   "outputs": [],
   "source": [
    "data_file=h5pydir+'class_model_data_no_rec.hdf5'\n",
    "with h5py.File(data_file, 'r') as f:\n",
    "    z_data = np.flip(np.array(f['thermodynamics']['z']))\n",
    "    thermo_tau_data = np.flip(np.array(f['thermodynamics']['conf. time [Mpc]']))\n",
    "    thermo_taus = UnivariateSpline(np.flip(z_data), np.flip(thermo_tau_data), **spline_pars)\n",
    "    a_data = 1/(1+z_data)\n",
    "    a = UnivariateSpline(thermo_tau_data, a_data, **spline_pars)\n",
    "    aprime = a.derivative()"
   ]
  },
  {
   "cell_type": "code",
   "execution_count": 535,
   "id": "a80947d9",
   "metadata": {},
   "outputs": [],
   "source": [
    "z_crit = 10**(4.8)/(2.73*0.3)"
   ]
  },
  {
   "cell_type": "code",
   "execution_count": 536,
   "id": "d0f6e9b9",
   "metadata": {},
   "outputs": [
    {
     "data": {
      "text/plain": [
       "0.17019224906376643"
      ]
     },
     "execution_count": 536,
     "metadata": {},
     "output_type": "execute_result"
    }
   ],
   "source": [
    "aprime(thermo_taus(z_crit))/a(thermo_taus(z_crit))\n",
    "#Comoving hubble at z_crit"
   ]
  },
  {
   "cell_type": "code",
   "execution_count": 514,
   "id": "be0969eb",
   "metadata": {},
   "outputs": [],
   "source": [
    "z_crit = 10**(4.8)/(2.73)"
   ]
  },
  {
   "cell_type": "code",
   "execution_count": 515,
   "id": "5e57cd1b",
   "metadata": {},
   "outputs": [
    {
     "data": {
      "text/plain": [
       "1.228323678523886"
      ]
     },
     "execution_count": 515,
     "metadata": {},
     "output_type": "execute_result"
    }
   ],
   "source": [
    "#k_kinetic decoupling from equation 30 of https://arxiv.org/pdf/astro-ph/0503387.pdf\n",
    "# 3.76e7 *(1e3/(100*1e9))**(1/2) *(10**(4.8)*ktoev/(30*1e6))**(1/2)\n",
    "3.76e7 *(1e3/(100*1e9))**(1/2) *(10**(4.57)*ktoev/(30*1e6))**(1/2)\n",
    "\n",
    "#This lines up with the rough value of k at which we're suppressed for 10**(4.8) recoupling!"
   ]
  },
  {
   "cell_type": "code",
   "execution_count": 111,
   "id": "9f563d0b",
   "metadata": {},
   "outputs": [
    {
     "data": {
      "text/plain": [
       "0.18687817207459445"
      ]
     },
     "execution_count": 111,
     "metadata": {},
     "output_type": "execute_result"
    }
   ],
   "source": [
    "1e-2/(aprime(thermo_taus(z_crit))/a(thermo_taus(z_crit)))"
   ]
  }
 ],
 "metadata": {
  "interpreter": {
   "hash": "1d93644de78784b52e1665efed99a57bcdf9c9cb0f07cf200ed55be113c20bd8"
  },
  "kernelspec": {
   "display_name": "kineticclass",
   "language": "python",
   "name": "python3"
  },
  "language_info": {
   "codemirror_mode": {
    "name": "ipython",
    "version": 3
   },
   "file_extension": ".py",
   "mimetype": "text/x-python",
   "name": "python",
   "nbconvert_exporter": "python",
   "pygments_lexer": "ipython3",
   "version": "3.9.7"
  }
 },
 "nbformat": 4,
 "nbformat_minor": 5
}
