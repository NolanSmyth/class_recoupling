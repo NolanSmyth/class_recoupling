{
 "cells": [
  {
   "cell_type": "markdown",
   "id": "83c50701",
   "metadata": {},
   "source": [
    "## Imports"
   ]
  },
  {
   "cell_type": "code",
   "execution_count": 1,
   "id": "62c9b18a",
   "metadata": {},
   "outputs": [],
   "source": [
    "from classy import Class\n",
    "import matplotlib.pyplot as plt\n",
    "import numpy as np\n",
    "from scipy.interpolate import UnivariateSpline\n",
    "import scipy.optimize as opt\n",
    "import h5py"
   ]
  },
  {
   "cell_type": "code",
   "execution_count": 242,
   "id": "dd4ceafb",
   "metadata": {},
   "outputs": [],
   "source": [
    "h5pydir = '/Users/nolansmyth/Dropbox/kinetic_recoupling/h5py_dat/'"
   ]
  },
  {
   "cell_type": "code",
   "execution_count": 49,
   "id": "e97907ed",
   "metadata": {},
   "outputs": [],
   "source": [
    "plt.style.use(\"/Users/nolansmyth/Dropbox/kinetic_recoupling/figures/style.mplstyle\")"
   ]
  },
  {
   "cell_type": "markdown",
   "id": "351fcfb6",
   "metadata": {},
   "source": [
    "## Parameters and Constants"
   ]
  },
  {
   "cell_type": "code",
   "execution_count": 5,
   "id": "08222e21",
   "metadata": {},
   "outputs": [],
   "source": [
    "spline_pars = {'k': 3, 's': 0.0}\n",
    "\n",
    "z_pk = 0.0; #redshift at which Pk is determined\n",
    "pk_max = 1.e2; #maximum k for Pk\n",
    "kk = np.logspace(-4,np.log10(pk_max),500)\n",
    "f_idm_dr = 1.0\n",
    "omega0_cdm = 0.12038;\n",
    "\n",
    "\n",
    "commonset = {\n",
    "    'omega_b': 0.022032,\n",
    "    'omega_cdm': omega0_cdm,\n",
    "    'h': 0.67556,\n",
    "    'A_s': 2.215e-9,\n",
    "    'n_s': 0.9619,\n",
    "    'tau_reio': 0.0925,\n",
    "    'output': 'tCl,pCl,lCl,mPk',\n",
    "    'lensing': 'yes',\n",
    "    'P_k_max_1/Mpc': pk_max,\n",
    "    'z_pk': 0.0,\n",
    "    'k_output_values':'10',\n",
    "}\n",
    "\n",
    "idrset = {\n",
    "    # Dark matter/radiation parameters\n",
    "    'f_idm_dr': f_idm_dr, #Amount of dm that is interacting\n",
    "    'xi_idr': 0.3, \n",
    "    'stat_f_idr': 0.875, #fermionic\n",
    "    'nindex_idm_dr': 4.0, \n",
    "    'm_idm': 1.0e3,\n",
    "    # Scattering rate parameters\n",
    "    'a_idm_dr': 1.0e0,\n",
    "    'rec_case': 4 #1 = power, 2 = Theta, 3 = delta function, 4 = no recoupling\n",
    "}"
   ]
  },
  {
   "cell_type": "markdown",
   "id": "3af63af3",
   "metadata": {},
   "source": [
    "## Functions"
   ]
  },
  {
   "cell_type": "code",
   "execution_count": 4,
   "id": "303e1493",
   "metadata": {},
   "outputs": [],
   "source": [
    "def getPk(classObj):\n",
    "    kk = np.logspace(-4,np.log10(pk_max),500) # k in h/Mpc\n",
    "    Pk = [] # P(k) in (Mpc/h)**3\n",
    "    h = classObj.h() # get reduced Hubble for conversions to 1/Mpc\n",
    "    for k in kk:\n",
    "        Pk.append(classObj.pk(k*h,z_pk)*h**3) # function .pk(k,z)\n",
    "    return Pk;\n",
    "\n",
    "def getPkRatio(classObj1, classObj2):\n",
    "    #Returns the ratio of the power spectrum of 1 to 2\n",
    "    return[getPk(classObj1)[i]/getPk(classObj2)[i] for i in range(len(kk))]\n",
    "    \n",
    "\n",
    "def getdmu_idm_dr(classObj):\n",
    "    return classObj.get_thermodynamics()['dmu_idm_dr']\n",
    "    \n",
    "def getzs(classObj):\n",
    "    return classObj.get_thermodynamics()['z']\n",
    "\n",
    "def getH(classObj):\n",
    "    zs = np.flip(classObj.get_background()['z'])\n",
    "    Hs = np.flip(classObj.get_background()['H [1/Mpc]'])\n",
    "    return UnivariateSpline(zs, Hs, k=1.0, s=0.0)\n",
    "\n",
    "\n",
    "def getDat(classObj):\n",
    "    dmu_idm_dr = getdmu_idm_dr(classObj);\n",
    "    zs = getzs(classObj);\n",
    "    Hspline = getH(classObj);\n",
    "    \n",
    "    return dmu_idm_dr, zs, Hspline\n",
    "\n",
    "def my_dmu_idm_dr(z, A_rec, a_idm_dr = 1, Omega0_idm_dr = 0.12038, T_rec = 6.0e5, h =0.67556, xi_idr = 0.3 ):\n",
    "    base_rate = a_idm_dr * ((1+z)/(1e7))**4 * Omega0_idm_dr * h**2 \n",
    "\n",
    "    if T_rec >= (xi_idr * 2.73) * (1+z) and (xi_idr*2.73) * (1+z) > T_rec*0.99:\n",
    "        return base_rate*(1+A_rec)\n",
    "    else:\n",
    "        return base_rate\n",
    "def scientific_format(x):\n",
    "    s = '%.1e' % x\n",
    "    mantissa, exponent = s.split('e')\n",
    "    return r'${} \\times 10^{{{}}}$'.format(mantissa, int(exponent))"
   ]
  },
  {
   "cell_type": "markdown",
   "id": "99cbc538",
   "metadata": {},
   "source": [
    "## ΛCDM"
   ]
  },
  {
   "cell_type": "code",
   "execution_count": 5,
   "id": "dd00b289",
   "metadata": {},
   "outputs": [],
   "source": [
    "LambdaCDM = Class()\n",
    "LambdaCDM.set(commonset)\n",
    "LambdaCDM.compute()\n",
    "LambdaCDMPk = getPk(LambdaCDM);"
   ]
  },
  {
   "cell_type": "markdown",
   "id": "208c8a78",
   "metadata": {},
   "source": [
    "## IDR"
   ]
  },
  {
   "cell_type": "code",
   "execution_count": 6,
   "id": "58ebebae",
   "metadata": {},
   "outputs": [],
   "source": [
    "idrNoRec = Class()\n",
    "idrNoRec.set(commonset)\n",
    "idrNoRec.set(idrset)\n",
    "\n",
    "idrNoRec.compute()\n",
    "\n",
    "# idrNoRecdmu_idm_dr, idrNoReczs, idrNoRecHspline = getDat(idrNoRec)"
   ]
  },
  {
   "cell_type": "code",
   "execution_count": 8,
   "id": "0fe1be8b",
   "metadata": {},
   "outputs": [],
   "source": [
    "BM_KS = ['10']"
   ]
  },
  {
   "cell_type": "code",
   "execution_count": 111,
   "id": "79eb72c7",
   "metadata": {},
   "outputs": [],
   "source": [
    "model = idrNoRec\n",
    "with h5py.File(h5pydir+'class_model_data_no_rec.hdf5', 'w') as f:    \n",
    "    # Scalar group\n",
    "    data = model.get_perturbations()['scalar']\n",
    "    sub_group = f.create_group('scalar')\n",
    "    for i, k in enumerate(BM_KS):\n",
    "        sub_sub_group = sub_group.create_group(f'k={k}')\n",
    "        d = data[i]\n",
    "        for key, val in d.items():\n",
    "            sub_sub_group.create_dataset(key, data=val)\n",
    "    \n",
    "    # Background group\n",
    "    data = model.get_background()\n",
    "    sub_group = f.create_group('background')\n",
    "    for key, val in data.items():\n",
    "        sub_group.create_dataset(key, data=val)\n",
    "    \n",
    "    # Thermo group\n",
    "    data = model.get_thermodynamics()\n",
    "    sub_group = f.create_group('thermodynamics')\n",
    "    for key, val in data.items():\n",
    "        sub_group.create_dataset(key, data=val)\n",
    "\n",
    "    # Power Spectrum group\n",
    "    data = getPk(model)\n",
    "    sub_group = f.create_group('power_spectrum')\n",
    "    sub_group.create_dataset('kk', data=kk)\n",
    "    sub_group.create_dataset('Pk', data=data) "
   ]
  },
  {
   "cell_type": "code",
   "execution_count": 34,
   "id": "8d1f9f48",
   "metadata": {},
   "outputs": [],
   "source": [
    "def save_class_obj(class_obj,A_rec):\n",
    "    model = class_obj\n",
    "    data_file=h5pydir+'class_model_data_' +'%.2e'%A_rec+'.hdf5'\n",
    "    with h5py.File(data_file, 'w') as f:    \n",
    "        # Scalar group\n",
    "        data = model.get_perturbations()['scalar']\n",
    "        sub_group = f.create_group('scalar')\n",
    "        for i, k in enumerate(BM_KS):\n",
    "            sub_sub_group = sub_group.create_group(f'k={k}')\n",
    "            d = data[i]\n",
    "            for key, val in d.items():\n",
    "                sub_sub_group.create_dataset(key, data=val)\n",
    "        \n",
    "        # Background group\n",
    "        data = model.get_background()\n",
    "        sub_group = f.create_group('background')\n",
    "        for key, val in data.items():\n",
    "            sub_group.create_dataset(key, data=val)\n",
    "        \n",
    "        # Thermo group\n",
    "        data = model.get_thermodynamics()\n",
    "        sub_group = f.create_group('thermodynamics')\n",
    "        for key, val in data.items():\n",
    "            sub_group.create_dataset(key, data=val)\n",
    "\n",
    "        # Power Spectrum group\n",
    "        data = getPk(model)\n",
    "        sub_group = f.create_group('power_spectrum')\n",
    "        sub_group.create_dataset('kk', data=kk)\n",
    "        sub_group.create_dataset('Pk', data=data) \n",
    "    "
   ]
  },
  {
   "cell_type": "code",
   "execution_count": 243,
   "id": "74628e98",
   "metadata": {},
   "outputs": [],
   "source": [
    "k = '10' #only one k mode for now\n",
    "A_recs = [1e5, 10**(5.5), 1e6]\n",
    "\n",
    "for A_rec in A_recs:\n",
    "    data_file=h5pydir+'/class_model_data_' +'%.2e'%A_rec+'.hdf5'\n",
    "    with h5py.File(data_file, 'r') as f:\n",
    "        tau_data = np.array(f['scalar']['k='+str(k)]['tau [Mpc]'])\n",
    "        delta_chi_data = np.array(f['scalar']['k='+str(k)]['delta_idm_dr'])\n",
    "        phi_data = np.array(f['scalar']['k='+str(k)]['phi'])\n",
    "        \n",
    "        delta_chi = UnivariateSpline(tau_data, delta_chi_data, **spline_pars)\n",
    "        delta_chi_dot = delta_chi.derivative()\n",
    "        phi = UnivariateSpline(tau_data, phi_data, **spline_pars)\n",
    "        phi_dot = phi.derivative()\n",
    "\n",
    "        Pks = np.array(f['power_spectrum']['Pk'])\n",
    "        kks = np.array(f['power_spectrum']['kk'])\n",
    "\n",
    "        kappa_dot_data = np.flip(np.array(f['thermodynamics']['dmu_idm_dr']))\n",
    "        z_data = np.flip(np.array(f['thermodynamics']['z']))"
   ]
  },
  {
   "cell_type": "markdown",
   "id": "43921eef",
   "metadata": {},
   "source": [
    "## Delta Function Recoupling"
   ]
  },
  {
   "cell_type": "code",
   "execution_count": 35,
   "id": "39dc0157",
   "metadata": {},
   "outputs": [],
   "source": [
    "# A_recs = [1e5, 10**(5.5), 1e6, 1e8, 1e10, 1e11]\n",
    "A_recs = [1e5, 10**(5.5), 1e6]"
   ]
  },
  {
   "cell_type": "code",
   "execution_count": 36,
   "id": "86ff167c",
   "metadata": {},
   "outputs": [],
   "source": [
    "for A_rec in A_recs:\n",
    "    cos = Class()\n",
    "    cos.set(commonset)\n",
    "    cos.set(idrset)\n",
    "    cos.set({\n",
    "        'rec_case': 3,\n",
    "        'A_rec':A_rec,\n",
    "        'T_rec':6.0e5,\n",
    "        })\n",
    "    cos.compute() \n",
    "\n",
    "    save_class_obj(cos,A_rec)\n",
    "    \n",
    "    # clear content of cos (to reuse it for another model)\n",
    "    cos.struct_cleanup()\n",
    "    # reset parameters to default\n",
    "    cos.empty()"
   ]
  },
  {
   "cell_type": "markdown",
   "id": "65fb0624",
   "metadata": {},
   "source": [
    "## Read in h5py file"
   ]
  },
  {
   "cell_type": "code",
   "execution_count": 244,
   "id": "63b1c0e3",
   "metadata": {},
   "outputs": [],
   "source": [
    "data_file=h5pydir+'class_model_data_no_rec.hdf5'\n",
    "with h5py.File(data_file, 'r') as f:\n",
    "    tau_data = np.array(f['scalar']['k='+str(k)]['tau [Mpc]'])\n",
    "    delta_chi_data = np.array(f['scalar']['k='+str(k)]['delta_idm_dr'])\n",
    "    phi_data = np.array(f['scalar']['k='+str(k)]['phi'])\n",
    "    \n",
    "    delta_chi_no_rec = UnivariateSpline(tau_data, delta_chi_data, **spline_pars)\n",
    "    delta_chi_dot_no_rec = delta_chi_no_rec.derivative()\n",
    "    phi_no_rec = UnivariateSpline(tau_data, phi_data, **spline_pars)\n",
    "    phi_dot_no_rec = phi_no_rec.derivative()\n",
    "\n",
    "    Pks_no_rec = np.array(f['power_spectrum']['Pk'])\n",
    "    kks_no_rec = np.array(f['power_spectrum']['kk'])\n",
    "\n",
    "    kappa_dot_data_no_rec = np.flip(np.array(f['thermodynamics']['dmu_idm_dr']))\n",
    "    z_data_no_rec = np.flip(np.array(f['thermodynamics']['z']))"
   ]
  },
  {
   "cell_type": "code",
   "execution_count": 245,
   "id": "f2c7452f",
   "metadata": {},
   "outputs": [],
   "source": [
    "k = '10' #only one k mode for now\n",
    "delta_chi_dot_arr = []\n",
    "phi_dot_arr = []\n",
    "Pk_arr = []\n",
    "kappa_dot_taus_arr = []\n",
    "kappa_dot_zs_arr = []\n",
    "z_arr = []\n",
    "tau_arr = []\n",
    "thermo_tau_arr = []\n",
    "for A_rec in A_recs:\n",
    "    data_file=h5pydir+'class_model_data_' +'%.2e'%A_rec+'.hdf5'\n",
    "    with h5py.File(data_file, 'r') as f:\n",
    "        tau_data = np.array(f['scalar']['k='+str(k)]['tau [Mpc]'])\n",
    "        delta_chi_data = np.array(f['scalar']['k='+str(k)]['delta_idm_dr'])\n",
    "        phi_data = np.array(f['scalar']['k='+str(k)]['phi'])\n",
    "        kappa_dot_data = np.flip(np.array(f['thermodynamics']['dmu_idm_dr']))\n",
    "        z_data = np.flip(np.array(f['thermodynamics']['z']))\n",
    "        thermo_tau_data = np.flip(np.array(f['thermodynamics']['conf. time [Mpc]']))\n",
    "        \n",
    "        delta_chi = UnivariateSpline(tau_data, delta_chi_data, **spline_pars)\n",
    "        delta_chi_dot = delta_chi.derivative()\n",
    "        phi = UnivariateSpline(tau_data, phi_data, **spline_pars)\n",
    "        phi_dot = phi.derivative()\n",
    "        kappa_dot_taus = UnivariateSpline(thermo_tau_data, kappa_dot_data, **spline_pars)\n",
    "        kappa_dot_zs = UnivariateSpline(np.flip(z_data), np.flip(kappa_dot_data), **spline_pars)\n",
    "        thermo_taus = UnivariateSpline(np.flip(z_data), np.flip(thermo_tau_data), **spline_pars)\n",
    "\n",
    "        Pks = np.array(f['power_spectrum']['Pk'])\n",
    "        kks = np.array(f['power_spectrum']['kk'])\n",
    "\n",
    "        delta_chi_dot_arr.append(delta_chi_dot)\n",
    "        Pk_arr.append(Pks)\n",
    "        kappa_dot_taus_arr.append(kappa_dot_taus)\n",
    "        kappa_dot_zs_arr.append(kappa_dot_zs)\n",
    "        z_arr.append(z_data)\n",
    "        tau_arr.append(tau_data)\n",
    "        phi_dot_arr.append(phi_dot)\n",
    "        thermo_tau_arr.append(thermo_taus)"
   ]
  },
  {
   "cell_type": "code",
   "execution_count": 246,
   "id": "2bd63355",
   "metadata": {},
   "outputs": [
    {
     "data": {
      "image/png": "[encoded data removed]",
      "text/plain": [
       "<Figure size 576x432 with 1 Axes>"
      ]
     },
     "metadata": {
      "needs_background": "light"
     },
     "output_type": "display_data"
    }
   ],
   "source": [
    "for i, A_rec in reversed(list(enumerate(A_recs))):\n",
    "    plt.plot(z_arr[i], kappa_dot_zs_arr[i](z_arr[i]), label='A_rec = ' + scientific_format(A_rec))\n",
    "\n",
    "plt.plot(z_data_no_rec, kappa_dot_data_no_rec, label='no rec ')\n",
    "\n",
    "plt.plot([1e-3,1e10], [1,1], 'k--')\n",
    "plt.plot([1e-3,1e10], [1e-3,1e-3], 'k:')\n",
    "plt.plot([1e-3,1e10], [1e3,1e3], 'k:')\n",
    "\n",
    "plt.xlim(6e4,1e7)\n",
    "plt.ylim(1e-8,1e3)\n",
    "plt.xscale('log')\n",
    "plt.yscale('log')\n",
    "plt.xlabel('z', fontsize=16)\n",
    "plt.ylabel('$\\Gamma_{\\mathrm{DR-DM}}$', fontsize=16)\n",
    "plt.legend()\n",
    "plt.show()"
   ]
  },
  {
   "cell_type": "code",
   "execution_count": 247,
   "id": "cc653bd1",
   "metadata": {},
   "outputs": [
    {
     "data": {
      "image/png": "[encoded data removed]",
      "text/plain": [
       "<Figure size 576x432 with 1 Axes>"
      ]
     },
     "metadata": {
      "needs_background": "light"
     },
     "output_type": "display_data"
    }
   ],
   "source": [
    "lines = [\"-\",\"--\",\"-.\",\":\"]\n",
    "for i, A_rec in reversed(list(enumerate(A_recs))):\n",
    "    plt.plot(kk, Pk_arr[i]/Pks_no_rec,  ls = lines[i%len(lines)], label='A_rec = ' + scientific_format(A_rec))\n",
    "\n",
    "plt.plot(kk,Pks_no_rec/Pks_no_rec, '--', label='No Rec')\n",
    "plt.yscale('log')\n",
    "plt.xscale('log')\n",
    "plt.xlabel('k')\n",
    "plt.ylabel('Pk')\n",
    "plt.xlim(1,1e2)\n",
    "plt.legend()\n",
    "# plt.savefig('Figures/Pk_delta_ratio_more')\n",
    "plt.show()"
   ]
  },
  {
   "cell_type": "code",
   "execution_count": 248,
   "id": "2222f0fa",
   "metadata": {},
   "outputs": [
    {
     "data": {
      "image/png": "[encoded data removed]",
      "text/plain": [
       "<Figure size 576x432 with 1 Axes>"
      ]
     },
     "metadata": {
      "needs_background": "light"
     },
     "output_type": "display_data"
    }
   ],
   "source": [
    "for i, A_rec in reversed(list(enumerate(A_recs))):\n",
    "    taus = tau_arr[i]\n",
    "    plt.plot(taus, abs((delta_chi_dot_arr[i](taus) - 3*phi_dot_arr[i](taus))/(delta_chi_dot_no_rec(taus) - 3*phi_dot_no_rec(taus)) - 1), label='A_rec = ' + scientific_format(A_rec))\n",
    " \n",
    "    # plt.plot(np.linspace(0.1,1,100), (np.exp(dTaus[i]*S_inv*dmu_peaks[i])-1)*np.ones(100), 'k--')\n",
    "\n",
    "plt.xlim(5e-1,1e0)\n",
    "plt.xlabel('tau [Mpc]')\n",
    "plt.ylabel('$|(\\dot{\\delta_\\chi} - 3 \\dot\\phi )/ (\\dot{\\delta_\\chi} - 3 \\dot\\phi)_0 - 1|$')\n",
    "\n",
    "plt.legend(loc='upper left')\n",
    "\n",
    "plt.yscale('log')\n",
    "plt.xscale('log')\n",
    "plt.ylim(3e-3,3e-1)\n",
    "\n",
    "\n",
    "plt.tight_layout()\n",
    "\n",
    "# plt.savefig('Figures/delta_chi_compare2.pdf')"
   ]
  },
  {
   "cell_type": "code",
   "execution_count": 229,
   "id": "629a9db1",
   "metadata": {},
   "outputs": [],
   "source": [
    "S_inv = 4/3*(idrNoRec.get_background()['(.)rho_idr']/idrNoRec.get_background()['(.)rho_idm_dr'])[2685]"
   ]
  },
  {
   "cell_type": "code",
   "execution_count": 231,
   "id": "6a0da630",
   "metadata": {},
   "outputs": [],
   "source": [
    "myzs = np.logspace(5.5,6.3,10000) #Assume peak occurs in this range (which it does for T_rec = 6e5)\n",
    "dmu_peaks = []\n",
    "dTaus = []\n",
    "for i, A_rec in enumerate(A_recs):\n",
    "    mytaus = thermo_tau_arr[i](myzs)\n",
    "    peak_idxs = np.where(kappa_dot_taus_arr[i](mytaus)>=1e-3) #indices in tau for which DM is recoupled, assuming the peak is greater than 1e-3\n",
    "    peak_taus = mytaus[peak_idxs]\n",
    "    dTau = np.max(peak_taus) - np.min(peak_taus) #conformal time spent in peak\n",
    "    dmu_peak = np.max(kappa_dot_taus_arr[i](peak_taus)) #Max comoving rate during recoupling\n",
    "\n",
    "    dmu_peaks.append(dmu_peak)\n",
    "    dTaus.append(dTau)"
   ]
  },
  {
   "cell_type": "code",
   "execution_count": 233,
   "id": "a3f09d58",
   "metadata": {},
   "outputs": [
    {
     "data": {
      "text/plain": [
       "[<matplotlib.lines.Line2D at 0x7fb4f00864c0>]"
      ]
     },
     "execution_count": 233,
     "metadata": {},
     "output_type": "execute_result"
    },
    {
     "data": {
      "image/png": "[encoded data removed]",
      "text/plain": [
       "<Figure size 576x432 with 1 Axes>"
      ]
     },
     "metadata": {
      "needs_background": "light"
     },
     "output_type": "display_data"
    }
   ],
   "source": [
    "plt.plot(peak_taus, kappa_dot_taus_arr[2](peak_taus))\n",
    "plt.show()"
   ]
  },
  {
   "cell_type": "code",
   "execution_count": 238,
   "id": "b009b3e1",
   "metadata": {},
   "outputs": [],
   "source": [
    "myzs = np.logspace(5.5,6.3,100000) #Assume peak occurs in this range (which it does for T_rec = 6e5)\n",
    "dmu_peaks = []\n",
    "dTaus = []\n",
    "for i, A_rec in enumerate(A_recs):\n",
    "    mytaus = thermo_tau_arr[i](myzs)\n",
    "    peak_idxs = np.where(kappa_dot_taus_arr[i](mytaus)>=5e-4) #indices in tau for which DM is recoupled, assuming the peak is greater than 1e-3\n",
    "    peak_taus = mytaus[peak_idxs]\n",
    "    dTau = np.max(peak_taus) - np.min(peak_taus) #conformal time spent in peak\n",
    "    dmu_peak = np.max(kappa_dot_taus_arr[i](peak_taus)) #Max comoving rate during recoupling\n",
    "\n",
    "    dmu_peaks.append(dmu_peak)\n",
    "    dTaus.append(dTau)"
   ]
  },
  {
   "cell_type": "code",
   "execution_count": 240,
   "id": "8d2e8a92",
   "metadata": {},
   "outputs": [
    {
     "data": {
      "image/png": "[encoded data removed]",
      "text/plain": [
       "<Figure size 576x432 with 1 Axes>"
      ]
     },
     "metadata": {
      "needs_background": "light"
     },
     "output_type": "display_data"
    }
   ],
   "source": [
    "for i, A_rec in reversed(list(enumerate(A_recs))):\n",
    "    taus = tau_arr[i]\n",
    "    plt.plot(taus, abs((delta_chi_dot_arr[i](taus) - 3*phi_dot_arr[i](taus))/(delta_chi_dot_no_rec(taus) - 3*phi_dot_no_rec(taus)) - 1), label='A_rec = ' + scientific_format(A_rec))\n",
    " \n",
    "    plt.plot(np.linspace(0.1,1,100), (np.exp(dTaus[i]*S_inv*dmu_peaks[i])-1)*np.ones(100), 'k--')\n",
    "\n",
    "plt.xlim(5e-1,1e0)\n",
    "plt.xlabel('tau [Mpc]')\n",
    "plt.ylabel('$|(\\dot{\\delta_\\chi} - 3 \\dot\\phi )/ (\\dot{\\delta_\\chi} - 3 \\dot\\phi)_0 - 1|$')\n",
    "\n",
    "plt.legend(loc='upper left')\n",
    "\n",
    "plt.yscale('log')\n",
    "plt.xscale('log')\n",
    "plt.ylim(3e-3,3e-1)\n",
    "\n",
    "\n",
    "plt.tight_layout()\n",
    "\n",
    "# plt.savefig('Figures/delta_chi_compare2.pdf')"
   ]
  },
  {
   "cell_type": "code",
   "execution_count": null,
   "id": "298c7277",
   "metadata": {},
   "outputs": [],
   "source": []
  }
 ],
 "metadata": {
  "interpreter": {
   "hash": "1d93644de78784b52e1665efed99a57bcdf9c9cb0f07cf200ed55be113c20bd8"
  },
  "kernelspec": {
   "display_name": "kineticclass",
   "language": "python",
   "name": "python3"
  },
  "language_info": {
   "codemirror_mode": {
    "name": "ipython",
    "version": 3
   },
   "file_extension": ".py",
   "mimetype": "text/x-python",
   "name": "python",
   "nbconvert_exporter": "python",
   "pygments_lexer": "ipython3",
   "version": "3.9.7"
  }
 },
 "nbformat": 4,
 "nbformat_minor": 5
}
